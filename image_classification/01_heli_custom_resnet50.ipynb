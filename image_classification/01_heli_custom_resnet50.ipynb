{
 "cells": [
  {
   "cell_type": "markdown",
   "metadata": {
    "papermill": {
     "duration": 0.007675,
     "end_time": "2021-03-30T16:12:00.517381",
     "exception": false,
     "start_time": "2021-03-30T16:12:00.509706",
     "status": "completed"
    },
    "tags": []
   },
   "source": [
    "## Import Statements"
   ]
  },
  {
   "cell_type": "code",
   "execution_count": 1,
   "metadata": {
    "execution": {
     "iopub.execute_input": "2021-03-30T16:12:00.541759Z",
     "iopub.status.busy": "2021-03-30T16:12:00.541143Z",
     "iopub.status.idle": "2021-03-30T16:12:05.829174Z",
     "shell.execute_reply": "2021-03-30T16:12:05.827553Z"
    },
    "papermill": {
     "duration": 5.305255,
     "end_time": "2021-03-30T16:12:05.829482",
     "exception": false,
     "start_time": "2021-03-30T16:12:00.524227",
     "status": "completed"
    },
    "scrolled": false,
    "tags": []
   },
   "outputs": [],
   "source": [
    "import numpy as np\n",
    "import tensorflow as tf\n",
    "from keras import layers\n",
    "from keras.layers import Input, Add, Dense, Activation, ZeroPadding2D, BatchNormalization, Flatten, Conv2D, AveragePooling2D, MaxPooling2D, GlobalMaxPooling2D, Concatenate\n",
    "from keras.models import Model, load_model\n",
    "from keras.preprocessing import image\n",
    "from keras.utils import layer_utils\n",
    "from keras.applications.imagenet_utils import preprocess_input\n",
    "from keras.utils import plot_model\n",
    "from keras.initializers import glorot_uniform\n",
    "from keras.preprocessing.image import ImageDataGenerator\n",
    "from keras.optimizers import Adam\n",
    "import scipy.misc\n",
    "%matplotlib inline\n",
    "import numpy as np\n",
    "import matplotlib\n",
    "import matplotlib.pyplot as plt"
   ]
  },
  {
   "cell_type": "markdown",
   "metadata": {
    "papermill": {
     "duration": 0.222788,
     "end_time": "2021-03-30T16:12:06.068898",
     "exception": false,
     "start_time": "2021-03-30T16:12:05.846110",
     "status": "completed"
    },
    "tags": []
   },
   "source": [
    "## ResNet50 Model"
   ]
  },
  {
   "cell_type": "code",
   "execution_count": 2,
   "metadata": {
    "execution": {
     "iopub.execute_input": "2021-03-30T16:12:06.121818Z",
     "iopub.status.busy": "2021-03-30T16:12:06.112740Z",
     "iopub.status.idle": "2021-03-30T16:12:06.128563Z",
     "shell.execute_reply": "2021-03-30T16:12:06.127258Z"
    },
    "papermill": {
     "duration": 0.04113,
     "end_time": "2021-03-30T16:12:06.128698",
     "exception": false,
     "start_time": "2021-03-30T16:12:06.087568",
     "status": "completed"
    },
    "scrolled": false,
    "tags": []
   },
   "outputs": [],
   "source": [
    "def identity_block(X, f, filters, stage, block):\n",
    "    \"\"\"\n",
    "    Implementation of the identity block\n",
    "    \n",
    "    Arguments:\n",
    "    X -- input tensor of shape (m, n_H_prev, n_W_prev, n_C_prev)\n",
    "    f -- integer, specifying the shape of the middle CONV's window for the main path\n",
    "    filters -- python list of integers, defining the number of filters in the CONV layers of the main path\n",
    "    stage -- integer, used to name the layers, depending on their position in the network\n",
    "    block -- string/character, used to name the layers, depending on their position in the network\n",
    "    \n",
    "    Returns:\n",
    "    X -- output of the identity block, tensor of shape (n_H, n_W, n_C)\n",
    "    \"\"\"\n",
    "    \n",
    "    # defining name basis\n",
    "    conv_name_base = 'res' + str(stage) + block + '_branch'\n",
    "    bn_name_base = 'bn' + str(stage) + block + '_branch'\n",
    "    \n",
    "    # Retrieve Filters\n",
    "    F1, F2, F3 = filters\n",
    "    \n",
    "    # Save the input value. You'll need this later to add back to the main path. \n",
    "    X_shortcut = X\n",
    "    \n",
    "    # First component of main path\n",
    "    X = Conv2D(filters = F1, kernel_size = (1, 1), strides = (1,1), padding = 'valid', name = conv_name_base + '2a', kernel_initializer = glorot_uniform(seed=0))(X)\n",
    "    X = BatchNormalization(axis = 3, name = bn_name_base + '2a')(X)\n",
    "    X = Activation('relu')(X)\n",
    "        \n",
    "    # Second component of main path (≈3 lines)\n",
    "    X = Conv2D(filters = F2, kernel_size = (f, f), strides = (1,1), padding = 'same', name = conv_name_base + '2b', kernel_initializer = glorot_uniform(seed=0))(X)\n",
    "    X = BatchNormalization(axis = 3, name = bn_name_base + '2b')(X)\n",
    "    X = Activation('relu')(X)\n",
    "\n",
    "    # Third component of main path (≈2 lines)\n",
    "    X = Conv2D(filters = F3, kernel_size = (1, 1), strides = (1,1), padding = 'valid', name = conv_name_base + '2c', kernel_initializer = glorot_uniform(seed=0))(X)\n",
    "    X = BatchNormalization(axis = 3, name = bn_name_base + '2c')(X)\n",
    "\n",
    "    # Final step: Add shortcut value to main path, and pass it through a RELU activation (≈2 lines)\n",
    "    X = Add()([X, X_shortcut]) \n",
    "    X = Activation('relu')(X)\n",
    "        \n",
    "    return X"
   ]
  },
  {
   "cell_type": "code",
   "execution_count": 3,
   "metadata": {
    "execution": {
     "iopub.execute_input": "2021-03-30T16:12:06.155415Z",
     "iopub.status.busy": "2021-03-30T16:12:06.154186Z",
     "iopub.status.idle": "2021-03-30T16:12:06.157213Z",
     "shell.execute_reply": "2021-03-30T16:12:06.156804Z"
    },
    "papermill": {
     "duration": 0.021202,
     "end_time": "2021-03-30T16:12:06.157322",
     "exception": false,
     "start_time": "2021-03-30T16:12:06.136120",
     "status": "completed"
    },
    "scrolled": false,
    "tags": []
   },
   "outputs": [],
   "source": [
    "def convolutional_block(X, f, filters, stage, block, s = 2):\n",
    "    \"\"\"\n",
    "    Implementation of the convolutional block\n",
    "    \n",
    "    Arguments:\n",
    "    X -- input tensor of shape (m, n_H_prev, n_W_prev, n_C_prev)\n",
    "    f -- integer, specifying the shape of the middle CONV's window for the main path\n",
    "    filters -- python list of integers, defining the number of filters in the CONV layers of the main path\n",
    "    stage -- integer, used to name the layers, depending on their position in the network\n",
    "    block -- string/character, used to name the layers, depending on their position in the network\n",
    "    s -- Integer, specifying the stride to be used\n",
    "    \n",
    "    Returns:\n",
    "    X -- output of the convolutional block, tensor of shape (n_H, n_W, n_C)\n",
    "    \"\"\"\n",
    "    \n",
    "    # defining name basis\n",
    "    conv_name_base = 'res' + str(stage) + block + '_branch'\n",
    "    bn_name_base = 'bn' + str(stage) + block + '_branch'\n",
    "    \n",
    "    # Retrieve Filters\n",
    "    F1, F2, F3 = filters\n",
    "    \n",
    "    # Save the input value\n",
    "    X_shortcut = X\n",
    "\n",
    "    # Main  path - first conv\n",
    "    X = Conv2D(F1, (1, 1), strides = (s,s), name = conv_name_base + '2a', padding = 'valid',  kernel_initializer = glorot_uniform(seed=0))(X)\n",
    "    X = BatchNormalization(axis = 3, name = bn_name_base + '2a')(X)\n",
    "    X = Activation('relu')(X)\n",
    "    \n",
    "    # Main  path - second conv\n",
    "    X = Conv2D(F2, (f, f), strides = (1,1), name = conv_name_base + '2b', padding = 'same', kernel_initializer = glorot_uniform(seed=0))(X)\n",
    "    X = BatchNormalization(axis = 3, name = bn_name_base + '2b')(X)\n",
    "    X = Activation('relu')(X)\n",
    "\n",
    "    # Main  path - third conv\n",
    "    X = Conv2D(F3, (1, 1), strides = (1,1), name = conv_name_base + '2c', padding = 'valid', kernel_initializer = glorot_uniform(seed=0))(X)\n",
    "    X = BatchNormalization(axis = 3, name = bn_name_base + '2c')(X)\n",
    "\n",
    "    # Shortcut path\n",
    "    X_shortcut = Conv2D(F3, (1, 1), strides = (s,s), name = conv_name_base + '1', padding = 'valid', kernel_initializer = glorot_uniform(seed=0))(X_shortcut)\n",
    "    X_shortcut = BatchNormalization(axis = 3, name = bn_name_base + '1')(X_shortcut)\n",
    "\n",
    "    # Add shortcut value to main path and RELU activation\n",
    "    X = Add()([X, X_shortcut]) \n",
    "    X = Activation('relu')(X)\n",
    "        \n",
    "    return X"
   ]
  },
  {
   "cell_type": "code",
   "execution_count": 4,
   "metadata": {
    "execution": {
     "iopub.execute_input": "2021-03-30T16:12:06.188657Z",
     "iopub.status.busy": "2021-03-30T16:12:06.187328Z",
     "iopub.status.idle": "2021-03-30T16:12:06.190073Z",
     "shell.execute_reply": "2021-03-30T16:12:06.190540Z"
    },
    "papermill": {
     "duration": 0.026095,
     "end_time": "2021-03-30T16:12:06.190658",
     "exception": false,
     "start_time": "2021-03-30T16:12:06.164563",
     "status": "completed"
    },
    "scrolled": false,
    "tags": []
   },
   "outputs": [],
   "source": [
    "def ResNet50(input_shape = (100, 100, 3), classes = 13):\n",
    "    \"\"\"\n",
    "    Implementation of the popular ResNet50 the following architecture:\n",
    "    CONV2D -> BATCHNORM -> RELU -> MAXPOOL -> CONVBLOCK -> IDBLOCK*2 -> CONVBLOCK -> IDBLOCK*3\n",
    "    -> CONVBLOCK -> IDBLOCK*5 -> CONVBLOCK -> IDBLOCK*2 -> AVGPOOL -> TOPLAYER\n",
    "\n",
    "    Arguments:\n",
    "    input_shape -- shape of the images of the dataset\n",
    "    classes -- integer, number of classes\n",
    "\n",
    "    Returns:\n",
    "    model -- a Model() instance in Keras\n",
    "    \"\"\"\n",
    "    \n",
    "    # Define the input as a tensor with shape input_shape\n",
    "    X_input = Input(input_shape)\n",
    "\n",
    "    \n",
    "    # Zero-Padding\n",
    "    X = ZeroPadding2D((3, 3))(X_input)\n",
    "    \n",
    "    # Stage 1\n",
    "    X = Conv2D(64, (7, 7), strides = (2, 2), name = 'conv1', kernel_initializer = glorot_uniform(seed=0))(X)\n",
    "    X = BatchNormalization(axis = 3, name = 'bn_conv1')(X)\n",
    "    X = Activation('relu')(X)\n",
    "    X = MaxPooling2D((3, 3), strides=(2, 2))(X)\n",
    "\n",
    "    # Stage 2\n",
    "    X = convolutional_block(X, f = 3, filters = [64, 64, 256], stage = 2, block='a', s = 1)\n",
    "    X = identity_block(X, 3, [64, 64, 256], stage=2, block='b')\n",
    "    X = identity_block(X, 3, [64, 64, 256], stage=2, block='c')\n",
    "\n",
    "    # Stage 3\n",
    "    X = convolutional_block(X, f = 3, filters = [128,128,512], stage = 3, block='a', s = 2)\n",
    "    X = identity_block(X, 3, [128,128,512], stage=3, block='b')\n",
    "    X = identity_block(X, 3, [128,128,512], stage=3, block='c')\n",
    "    X = identity_block(X, 3, [128,128,512], stage=3, block='d')\n",
    "\n",
    "    # Stage 4\n",
    "    X = convolutional_block(X, f = 3, filters = [256, 256, 1024], stage = 4, block='a', s = 2)\n",
    "    X = identity_block(X, 3, [256, 256, 1024], stage=4, block='b')\n",
    "    X = identity_block(X, 3, [256, 256, 1024], stage=4, block='c')\n",
    "    X = identity_block(X, 3, [256, 256, 1024], stage=4, block='d')\n",
    "    X = identity_block(X, 3, [256, 256, 1024], stage=4, block='e')\n",
    "    X = identity_block(X, 3, [256, 256, 1024], stage=4, block='f')\n",
    "\n",
    "    # Stage 5\n",
    "    X = convolutional_block(X, f = 3, filters =  [512, 512, 2048], stage = 5, block='a', s = 2)\n",
    "    X = identity_block(X, 3, [512, 512, 2048], stage=5, block='b')\n",
    "    X = identity_block(X, 3, [512, 512, 2048], stage=5, block='c')\n",
    "\n",
    "    # AVGPOOL \n",
    "    X = AveragePooling2D((2, 2), name = 'avg_pool')(X)\n",
    "    \n",
    "    # output layer\n",
    "    X = Flatten()(X)\n",
    "    X = Dense(classes, activation='softmax', name='fc' + str(classes), kernel_initializer = glorot_uniform(seed=0))(X)\n",
    "    \n",
    "    \n",
    "    # Create model\n",
    "    model = Model(inputs = X_input, outputs = X, name='ResNet50')\n",
    "\n",
    "    return model"
   ]
  },
  {
   "cell_type": "code",
   "execution_count": 5,
   "metadata": {
    "execution": {
     "iopub.execute_input": "2021-03-30T16:12:06.212355Z",
     "iopub.status.busy": "2021-03-30T16:12:06.211866Z",
     "iopub.status.idle": "2021-03-30T16:12:28.833916Z",
     "shell.execute_reply": "2021-03-30T16:12:28.832773Z"
    },
    "papermill": {
     "duration": 22.636141,
     "end_time": "2021-03-30T16:12:28.834080",
     "exception": false,
     "start_time": "2021-03-30T16:12:06.197939",
     "status": "completed"
    },
    "scrolled": false,
    "tags": []
   },
   "outputs": [
    {
     "name": "stdout",
     "output_type": "stream",
     "text": [
      "Found 16439 images belonging to 13 classes.\n",
      "Found 4117 images belonging to 13 classes.\n"
     ]
    }
   ],
   "source": [
    "batch_size = 128\n",
    "\n",
    "datagen = ImageDataGenerator(rescale=1.0/255.0, samplewise_center=True, samplewise_std_normalization=True,\n",
    "    rotation_range=20, zoom_range=0.15,\n",
    "    width_shift_range=0.2, height_shift_range=0.2, shear_range=0.15, brightness_range=[0.2,1.0],\n",
    "    horizontal_flip=True, fill_mode=\"nearest\")\n",
    "\n",
    "train_it = datagen.flow_from_directory('../input/recaptcha-data/recaptcha_data/train/', target_size=(100, 100), batch_size = batch_size)\n",
    "val_it = datagen.flow_from_directory('../input/recaptcha-data/recaptcha_data/val', target_size=(100, 100))\n",
    "\n",
    "def get_lr_metric(optimizer):\n",
    "    def lr(y_true, y_pred):\n",
    "        return optimizer._decayed_lr(tf.float32)\n",
    "    return lr\n",
    "\n",
    "optimizer = Adam(learning_rate=0.0001)\n",
    "lr_metric = get_lr_metric(optimizer)\n",
    "\n",
    "model = ResNet50(input_shape = (100, 100, 3), classes = 13)\n",
    "model.compile(optimizer=optimizer, loss='categorical_crossentropy', metrics=['accuracy',lr_metric])"
   ]
  },
  {
   "cell_type": "code",
   "execution_count": 6,
   "metadata": {
    "execution": {
     "iopub.execute_input": "2021-03-30T16:12:28.858766Z",
     "iopub.status.busy": "2021-03-30T16:12:28.858216Z",
     "iopub.status.idle": "2021-03-30T18:53:53.377631Z",
     "shell.execute_reply": "2021-03-30T18:53:53.377191Z"
    },
    "papermill": {
     "duration": 9684.533862,
     "end_time": "2021-03-30T18:53:53.377790",
     "exception": false,
     "start_time": "2021-03-30T16:12:28.843928",
     "status": "completed"
    },
    "scrolled": true,
    "tags": []
   },
   "outputs": [
    {
     "name": "stdout",
     "output_type": "stream",
     "text": [
      "Epoch 1/100\n",
      "129/129 [==============================] - 233s 2s/step - loss: 2.4353 - accuracy: 0.2620 - lr: 1.0000e-04 - val_loss: 2.2842 - val_accuracy: 0.1861 - val_lr: 1.0000e-04\n",
      "Epoch 2/100\n",
      "129/129 [==============================] - 92s 711ms/step - loss: 1.9104 - accuracy: 0.3392 - lr: 1.0000e-04 - val_loss: 2.1377 - val_accuracy: 0.1846 - val_lr: 1.0000e-04\n",
      "Epoch 3/100\n",
      "129/129 [==============================] - 91s 708ms/step - loss: 1.7070 - accuracy: 0.3979 - lr: 1.0000e-04 - val_loss: 1.8006 - val_accuracy: 0.3830 - val_lr: 1.0000e-04\n",
      "Epoch 4/100\n",
      "129/129 [==============================] - 92s 713ms/step - loss: 1.6162 - accuracy: 0.4357 - lr: 1.0000e-04 - val_loss: 1.5748 - val_accuracy: 0.4452 - val_lr: 1.0000e-04\n",
      "Epoch 5/100\n",
      "129/129 [==============================] - 92s 713ms/step - loss: 1.5163 - accuracy: 0.4738 - lr: 1.0000e-04 - val_loss: 1.5799 - val_accuracy: 0.4549 - val_lr: 1.0000e-04\n",
      "Epoch 6/100\n",
      "129/129 [==============================] - 92s 717ms/step - loss: 1.4282 - accuracy: 0.4954 - lr: 1.0000e-04 - val_loss: 1.4058 - val_accuracy: 0.5072 - val_lr: 1.0000e-04\n",
      "Epoch 7/100\n",
      "129/129 [==============================] - 92s 711ms/step - loss: 1.3749 - accuracy: 0.5170 - lr: 1.0000e-04 - val_loss: 1.3616 - val_accuracy: 0.5276 - val_lr: 1.0000e-04\n",
      "Epoch 8/100\n",
      "129/129 [==============================] - 93s 718ms/step - loss: 1.3201 - accuracy: 0.5297 - lr: 1.0000e-04 - val_loss: 1.3205 - val_accuracy: 0.5324 - val_lr: 1.0000e-04\n",
      "Epoch 9/100\n",
      "129/129 [==============================] - 92s 714ms/step - loss: 1.2756 - accuracy: 0.5493 - lr: 1.0000e-04 - val_loss: 1.2648 - val_accuracy: 0.5528 - val_lr: 1.0000e-04\n",
      "Epoch 10/100\n",
      "129/129 [==============================] - 92s 714ms/step - loss: 1.2317 - accuracy: 0.5666 - lr: 1.0000e-04 - val_loss: 1.2638 - val_accuracy: 0.5628 - val_lr: 1.0000e-04\n",
      "Epoch 11/100\n",
      "129/129 [==============================] - 92s 715ms/step - loss: 1.1878 - accuracy: 0.5768 - lr: 1.0000e-04 - val_loss: 1.3324 - val_accuracy: 0.5390 - val_lr: 1.0000e-04\n",
      "Epoch 12/100\n",
      "129/129 [==============================] - 92s 714ms/step - loss: 1.1698 - accuracy: 0.5961 - lr: 1.0000e-04 - val_loss: 1.2287 - val_accuracy: 0.5706 - val_lr: 1.0000e-04\n",
      "Epoch 13/100\n",
      "129/129 [==============================] - 92s 716ms/step - loss: 1.1170 - accuracy: 0.6140 - lr: 1.0000e-04 - val_loss: 1.1618 - val_accuracy: 0.6068 - val_lr: 1.0000e-04\n",
      "Epoch 14/100\n",
      "129/129 [==============================] - 92s 714ms/step - loss: 1.0919 - accuracy: 0.6184 - lr: 1.0000e-04 - val_loss: 1.2013 - val_accuracy: 0.5958 - val_lr: 1.0000e-04\n",
      "Epoch 15/100\n",
      "129/129 [==============================] - 92s 715ms/step - loss: 1.0686 - accuracy: 0.6257 - lr: 1.0000e-04 - val_loss: 1.1868 - val_accuracy: 0.5936 - val_lr: 1.0000e-04\n",
      "Epoch 16/100\n",
      "129/129 [==============================] - 93s 718ms/step - loss: 1.0183 - accuracy: 0.6457 - lr: 1.0000e-04 - val_loss: 1.1979 - val_accuracy: 0.5859 - val_lr: 1.0000e-04\n",
      "Epoch 17/100\n",
      "129/129 [==============================] - 92s 714ms/step - loss: 1.0128 - accuracy: 0.6439 - lr: 1.0000e-04 - val_loss: 1.1412 - val_accuracy: 0.6060 - val_lr: 1.0000e-04\n",
      "Epoch 18/100\n",
      "129/129 [==============================] - 93s 720ms/step - loss: 0.9750 - accuracy: 0.6628 - lr: 1.0000e-04 - val_loss: 1.0927 - val_accuracy: 0.6247 - val_lr: 1.0000e-04\n",
      "Epoch 19/100\n",
      "129/129 [==============================] - 93s 719ms/step - loss: 0.9517 - accuracy: 0.6673 - lr: 1.0000e-04 - val_loss: 1.0798 - val_accuracy: 0.6301 - val_lr: 1.0000e-04\n",
      "Epoch 20/100\n",
      "129/129 [==============================] - 93s 719ms/step - loss: 0.9343 - accuracy: 0.6738 - lr: 1.0000e-04 - val_loss: 1.0513 - val_accuracy: 0.6366 - val_lr: 1.0000e-04\n",
      "Epoch 21/100\n",
      "129/129 [==============================] - 93s 723ms/step - loss: 0.9000 - accuracy: 0.6818 - lr: 1.0000e-04 - val_loss: 1.0111 - val_accuracy: 0.6597 - val_lr: 1.0000e-04\n",
      "Epoch 22/100\n",
      "129/129 [==============================] - 93s 720ms/step - loss: 0.8810 - accuracy: 0.6936 - lr: 1.0000e-04 - val_loss: 1.0129 - val_accuracy: 0.6527 - val_lr: 1.0000e-04\n",
      "Epoch 23/100\n",
      "129/129 [==============================] - 93s 718ms/step - loss: 0.8620 - accuracy: 0.7052 - lr: 1.0000e-04 - val_loss: 1.0063 - val_accuracy: 0.6633 - val_lr: 1.0000e-04\n",
      "Epoch 24/100\n",
      "129/129 [==============================] - 93s 721ms/step - loss: 0.8463 - accuracy: 0.7061 - lr: 1.0000e-04 - val_loss: 0.9496 - val_accuracy: 0.6779 - val_lr: 1.0000e-04\n",
      "Epoch 25/100\n",
      "129/129 [==============================] - 94s 729ms/step - loss: 0.8320 - accuracy: 0.7131 - lr: 1.0000e-04 - val_loss: 1.0208 - val_accuracy: 0.6510 - val_lr: 1.0000e-04\n",
      "Epoch 26/100\n",
      "129/129 [==============================] - 93s 722ms/step - loss: 0.8130 - accuracy: 0.7143 - lr: 1.0000e-04 - val_loss: 1.0339 - val_accuracy: 0.6483 - val_lr: 1.0000e-04\n",
      "Epoch 27/100\n",
      "129/129 [==============================] - 94s 726ms/step - loss: 0.8112 - accuracy: 0.7144 - lr: 1.0000e-04 - val_loss: 0.9286 - val_accuracy: 0.6864 - val_lr: 1.0000e-04\n",
      "Epoch 28/100\n",
      "129/129 [==============================] - 94s 729ms/step - loss: 0.7735 - accuracy: 0.7290 - lr: 1.0000e-04 - val_loss: 0.9922 - val_accuracy: 0.6633 - val_lr: 1.0000e-04\n",
      "Epoch 29/100\n",
      "129/129 [==============================] - 93s 725ms/step - loss: 0.7891 - accuracy: 0.7203 - lr: 1.0000e-04 - val_loss: 0.9833 - val_accuracy: 0.6658 - val_lr: 1.0000e-04\n",
      "Epoch 30/100\n",
      "129/129 [==============================] - 93s 718ms/step - loss: 0.7738 - accuracy: 0.7258 - lr: 1.0000e-04 - val_loss: 0.8921 - val_accuracy: 0.6959 - val_lr: 1.0000e-04\n",
      "Epoch 31/100\n",
      "129/129 [==============================] - 94s 725ms/step - loss: 0.7414 - accuracy: 0.7382 - lr: 1.0000e-04 - val_loss: 1.0251 - val_accuracy: 0.6636 - val_lr: 1.0000e-04\n",
      "Epoch 32/100\n",
      "129/129 [==============================] - 93s 723ms/step - loss: 0.7538 - accuracy: 0.7336 - lr: 1.0000e-04 - val_loss: 0.9172 - val_accuracy: 0.6915 - val_lr: 1.0000e-04\n",
      "Epoch 33/100\n",
      "129/129 [==============================] - 94s 729ms/step - loss: 0.7037 - accuracy: 0.7478 - lr: 1.0000e-04 - val_loss: 0.9579 - val_accuracy: 0.6782 - val_lr: 1.0000e-04\n",
      "Epoch 34/100\n",
      "129/129 [==============================] - 93s 725ms/step - loss: 0.6958 - accuracy: 0.7510 - lr: 1.0000e-04 - val_loss: 0.9551 - val_accuracy: 0.6704 - val_lr: 1.0000e-04\n",
      "Epoch 35/100\n",
      "129/129 [==============================] - 94s 726ms/step - loss: 0.6944 - accuracy: 0.7517 - lr: 1.0000e-04 - val_loss: 0.9629 - val_accuracy: 0.6993 - val_lr: 1.0000e-04\n",
      "Epoch 36/100\n",
      "129/129 [==============================] - 93s 722ms/step - loss: 0.6679 - accuracy: 0.7674 - lr: 1.0000e-04 - val_loss: 0.9166 - val_accuracy: 0.6991 - val_lr: 1.0000e-04\n",
      "Epoch 37/100\n",
      "129/129 [==============================] - 94s 728ms/step - loss: 0.6658 - accuracy: 0.7633 - lr: 1.0000e-04 - val_loss: 0.9028 - val_accuracy: 0.6978 - val_lr: 1.0000e-04\n",
      "Epoch 38/100\n",
      "129/129 [==============================] - 94s 728ms/step - loss: 0.6553 - accuracy: 0.7672 - lr: 1.0000e-04 - val_loss: 0.8737 - val_accuracy: 0.7088 - val_lr: 1.0000e-04\n",
      "Epoch 39/100\n",
      "129/129 [==============================] - 94s 730ms/step - loss: 0.6464 - accuracy: 0.7730 - lr: 1.0000e-04 - val_loss: 0.8997 - val_accuracy: 0.7059 - val_lr: 1.0000e-04\n",
      "Epoch 40/100\n",
      "129/129 [==============================] - 94s 730ms/step - loss: 0.6340 - accuracy: 0.7693 - lr: 1.0000e-04 - val_loss: 1.0009 - val_accuracy: 0.6830 - val_lr: 1.0000e-04\n",
      "Epoch 41/100\n",
      "129/129 [==============================] - 94s 726ms/step - loss: 0.6387 - accuracy: 0.7705 - lr: 1.0000e-04 - val_loss: 0.8696 - val_accuracy: 0.7032 - val_lr: 1.0000e-04\n",
      "Epoch 42/100\n",
      "129/129 [==============================] - 95s 732ms/step - loss: 0.6187 - accuracy: 0.7812 - lr: 1.0000e-04 - val_loss: 0.8766 - val_accuracy: 0.7000 - val_lr: 1.0000e-04\n",
      "Epoch 43/100\n",
      "129/129 [==============================] - 94s 731ms/step - loss: 0.6021 - accuracy: 0.7805 - lr: 1.0000e-04 - val_loss: 0.8954 - val_accuracy: 0.7071 - val_lr: 1.0000e-04\n",
      "Epoch 44/100\n",
      "129/129 [==============================] - 95s 734ms/step - loss: 0.5767 - accuracy: 0.7958 - lr: 1.0000e-04 - val_loss: 0.8879 - val_accuracy: 0.6988 - val_lr: 1.0000e-04\n",
      "Epoch 45/100\n",
      "129/129 [==============================] - 95s 735ms/step - loss: 0.5683 - accuracy: 0.7998 - lr: 1.0000e-04 - val_loss: 0.8959 - val_accuracy: 0.7097 - val_lr: 1.0000e-04\n",
      "Epoch 46/100\n",
      "129/129 [==============================] - 94s 727ms/step - loss: 0.5957 - accuracy: 0.7924 - lr: 1.0000e-04 - val_loss: 0.9209 - val_accuracy: 0.7146 - val_lr: 1.0000e-04\n",
      "Epoch 47/100\n",
      "129/129 [==============================] - 94s 729ms/step - loss: 0.5623 - accuracy: 0.8012 - lr: 1.0000e-04 - val_loss: 0.9541 - val_accuracy: 0.6932 - val_lr: 1.0000e-04\n",
      "Epoch 48/100\n",
      "129/129 [==============================] - 95s 739ms/step - loss: 0.5588 - accuracy: 0.8038 - lr: 1.0000e-04 - val_loss: 0.8820 - val_accuracy: 0.7170 - val_lr: 1.0000e-04\n",
      "Epoch 49/100\n",
      "129/129 [==============================] - 95s 737ms/step - loss: 0.5272 - accuracy: 0.8117 - lr: 1.0000e-04 - val_loss: 0.8793 - val_accuracy: 0.7146 - val_lr: 1.0000e-04\n",
      "Epoch 50/100\n",
      "129/129 [==============================] - 94s 725ms/step - loss: 0.5322 - accuracy: 0.8132 - lr: 1.0000e-04 - val_loss: 0.8929 - val_accuracy: 0.7022 - val_lr: 1.0000e-04\n",
      "Epoch 51/100\n",
      "129/129 [==============================] - 95s 737ms/step - loss: 0.5310 - accuracy: 0.8079 - lr: 1.0000e-04 - val_loss: 0.9032 - val_accuracy: 0.7090 - val_lr: 1.0000e-04\n",
      "Epoch 52/100\n",
      "129/129 [==============================] - 96s 744ms/step - loss: 0.5186 - accuracy: 0.8178 - lr: 1.0000e-04 - val_loss: 0.9206 - val_accuracy: 0.6969 - val_lr: 1.0000e-04\n",
      "Epoch 53/100\n",
      "129/129 [==============================] - 95s 738ms/step - loss: 0.5020 - accuracy: 0.8148 - lr: 1.0000e-04 - val_loss: 0.9381 - val_accuracy: 0.7042 - val_lr: 1.0000e-04\n",
      "Epoch 54/100\n",
      "129/129 [==============================] - 94s 732ms/step - loss: 0.4977 - accuracy: 0.8211 - lr: 1.0000e-04 - val_loss: 0.9155 - val_accuracy: 0.7046 - val_lr: 1.0000e-04\n",
      "Epoch 55/100\n",
      "129/129 [==============================] - 105s 810ms/step - loss: 0.5085 - accuracy: 0.8165 - lr: 1.0000e-04 - val_loss: 0.8943 - val_accuracy: 0.7156 - val_lr: 1.0000e-04\n",
      "Epoch 56/100\n",
      "129/129 [==============================] - 109s 845ms/step - loss: 0.4815 - accuracy: 0.8264 - lr: 1.0000e-04 - val_loss: 0.9417 - val_accuracy: 0.7100 - val_lr: 1.0000e-04\n",
      "Epoch 57/100\n",
      "129/129 [==============================] - 96s 742ms/step - loss: 0.4766 - accuracy: 0.8279 - lr: 1.0000e-04 - val_loss: 0.9169 - val_accuracy: 0.7093 - val_lr: 1.0000e-04\n",
      "Epoch 58/100\n",
      "129/129 [==============================] - 96s 743ms/step - loss: 0.4645 - accuracy: 0.8334 - lr: 1.0000e-04 - val_loss: 0.9104 - val_accuracy: 0.7236 - val_lr: 1.0000e-04\n",
      "Epoch 59/100\n",
      "129/129 [==============================] - 94s 733ms/step - loss: 0.4628 - accuracy: 0.8326 - lr: 1.0000e-04 - val_loss: 0.9801 - val_accuracy: 0.6908 - val_lr: 1.0000e-04\n",
      "Epoch 60/100\n",
      "129/129 [==============================] - 96s 745ms/step - loss: 0.4701 - accuracy: 0.8332 - lr: 1.0000e-04 - val_loss: 0.9173 - val_accuracy: 0.7158 - val_lr: 1.0000e-04\n",
      "Epoch 61/100\n",
      "129/129 [==============================] - 110s 854ms/step - loss: 0.4362 - accuracy: 0.8417 - lr: 1.0000e-04 - val_loss: 0.9223 - val_accuracy: 0.7255 - val_lr: 1.0000e-04\n",
      "Epoch 62/100\n",
      "129/129 [==============================] - 96s 741ms/step - loss: 0.4291 - accuracy: 0.8442 - lr: 1.0000e-04 - val_loss: 0.9227 - val_accuracy: 0.7136 - val_lr: 1.0000e-04\n",
      "Epoch 63/100\n",
      "129/129 [==============================] - 96s 747ms/step - loss: 0.4368 - accuracy: 0.8445 - lr: 1.0000e-04 - val_loss: 0.9115 - val_accuracy: 0.7078 - val_lr: 1.0000e-04\n",
      "Epoch 64/100\n",
      "129/129 [==============================] - 95s 738ms/step - loss: 0.4158 - accuracy: 0.8511 - lr: 1.0000e-04 - val_loss: 0.9012 - val_accuracy: 0.7333 - val_lr: 1.0000e-04\n",
      "Epoch 65/100\n",
      "129/129 [==============================] - 96s 743ms/step - loss: 0.4210 - accuracy: 0.8457 - lr: 1.0000e-04 - val_loss: 0.9753 - val_accuracy: 0.7114 - val_lr: 1.0000e-04\n",
      "Epoch 66/100\n",
      "129/129 [==============================] - 96s 747ms/step - loss: 0.4310 - accuracy: 0.8473 - lr: 1.0000e-04 - val_loss: 0.9443 - val_accuracy: 0.7238 - val_lr: 1.0000e-04\n",
      "Epoch 67/100\n",
      "129/129 [==============================] - 95s 736ms/step - loss: 0.3942 - accuracy: 0.8579 - lr: 1.0000e-04 - val_loss: 0.9256 - val_accuracy: 0.7165 - val_lr: 1.0000e-04\n",
      "Epoch 68/100\n",
      "129/129 [==============================] - 97s 748ms/step - loss: 0.4056 - accuracy: 0.8492 - lr: 1.0000e-04 - val_loss: 0.9434 - val_accuracy: 0.7182 - val_lr: 1.0000e-04\n",
      "Epoch 69/100\n",
      "129/129 [==============================] - 97s 749ms/step - loss: 0.3901 - accuracy: 0.8596 - lr: 1.0000e-04 - val_loss: 0.9219 - val_accuracy: 0.7207 - val_lr: 1.0000e-04\n",
      "Epoch 70/100\n",
      "129/129 [==============================] - 95s 736ms/step - loss: 0.3917 - accuracy: 0.8606 - lr: 1.0000e-04 - val_loss: 1.0105 - val_accuracy: 0.7192 - val_lr: 1.0000e-04\n",
      "Epoch 71/100\n",
      "129/129 [==============================] - 101s 779ms/step - loss: 0.3811 - accuracy: 0.8604 - lr: 1.0000e-04 - val_loss: 0.9257 - val_accuracy: 0.7212 - val_lr: 1.0000e-04\n",
      "Epoch 72/100\n",
      "129/129 [==============================] - 96s 746ms/step - loss: 0.3758 - accuracy: 0.8657 - lr: 1.0000e-04 - val_loss: 0.9102 - val_accuracy: 0.7323 - val_lr: 1.0000e-04\n",
      "Epoch 73/100\n",
      "129/129 [==============================] - 96s 741ms/step - loss: 0.3622 - accuracy: 0.8693 - lr: 1.0000e-04 - val_loss: 1.0437 - val_accuracy: 0.7134 - val_lr: 1.0000e-04\n",
      "Epoch 74/100\n",
      "129/129 [==============================] - 98s 755ms/step - loss: 0.3626 - accuracy: 0.8698 - lr: 1.0000e-04 - val_loss: 0.9589 - val_accuracy: 0.7248 - val_lr: 1.0000e-04\n",
      "Epoch 75/100\n",
      "129/129 [==============================] - 104s 804ms/step - loss: 0.3534 - accuracy: 0.8730 - lr: 1.0000e-04 - val_loss: 0.8990 - val_accuracy: 0.7352 - val_lr: 1.0000e-04\n",
      "Epoch 76/100\n",
      "129/129 [==============================] - 97s 753ms/step - loss: 0.3465 - accuracy: 0.8735 - lr: 1.0000e-04 - val_loss: 0.9728 - val_accuracy: 0.7318 - val_lr: 1.0000e-04\n",
      "Epoch 77/100\n",
      "129/129 [==============================] - 96s 744ms/step - loss: 0.3420 - accuracy: 0.8769 - lr: 1.0000e-04 - val_loss: 0.9382 - val_accuracy: 0.7173 - val_lr: 1.0000e-04\n",
      "Epoch 78/100\n",
      "129/129 [==============================] - 97s 753ms/step - loss: 0.3407 - accuracy: 0.8752 - lr: 1.0000e-04 - val_loss: 0.9506 - val_accuracy: 0.7214 - val_lr: 1.0000e-04\n",
      "Epoch 79/100\n",
      "129/129 [==============================] - 98s 761ms/step - loss: 0.3376 - accuracy: 0.8811 - lr: 1.0000e-04 - val_loss: 1.0445 - val_accuracy: 0.7129 - val_lr: 1.0000e-04\n",
      "Epoch 80/100\n",
      "129/129 [==============================] - 104s 807ms/step - loss: 0.3178 - accuracy: 0.8832 - lr: 1.0000e-04 - val_loss: 1.0194 - val_accuracy: 0.7275 - val_lr: 1.0000e-04\n",
      "Epoch 81/100\n",
      "129/129 [==============================] - 96s 746ms/step - loss: 0.3474 - accuracy: 0.8807 - lr: 1.0000e-04 - val_loss: 1.0090 - val_accuracy: 0.7182 - val_lr: 1.0000e-04\n",
      "Epoch 82/100\n",
      "129/129 [==============================] - 98s 755ms/step - loss: 0.3134 - accuracy: 0.8834 - lr: 1.0000e-04 - val_loss: 0.9529 - val_accuracy: 0.7248 - val_lr: 1.0000e-04\n",
      "Epoch 83/100\n",
      "129/129 [==============================] - 98s 757ms/step - loss: 0.3142 - accuracy: 0.8910 - lr: 1.0000e-04 - val_loss: 1.0242 - val_accuracy: 0.7156 - val_lr: 1.0000e-04\n",
      "Epoch 84/100\n",
      "129/129 [==============================] - 96s 748ms/step - loss: 0.2943 - accuracy: 0.8948 - lr: 1.0000e-04 - val_loss: 1.0249 - val_accuracy: 0.7214 - val_lr: 1.0000e-04\n",
      "Epoch 85/100\n",
      "129/129 [==============================] - 97s 753ms/step - loss: 0.2982 - accuracy: 0.8915 - lr: 1.0000e-04 - val_loss: 0.9754 - val_accuracy: 0.7287 - val_lr: 1.0000e-04\n",
      "Epoch 86/100\n",
      "129/129 [==============================] - 100s 771ms/step - loss: 0.2960 - accuracy: 0.8954 - lr: 1.0000e-04 - val_loss: 1.1547 - val_accuracy: 0.6855 - val_lr: 1.0000e-04\n",
      "Epoch 87/100\n",
      "129/129 [==============================] - 96s 744ms/step - loss: 0.3019 - accuracy: 0.8944 - lr: 1.0000e-04 - val_loss: 1.0669 - val_accuracy: 0.7095 - val_lr: 1.0000e-04\n",
      "Epoch 88/100\n",
      "129/129 [==============================] - 98s 757ms/step - loss: 0.3142 - accuracy: 0.8906 - lr: 1.0000e-04 - val_loss: 1.0127 - val_accuracy: 0.7289 - val_lr: 1.0000e-04\n",
      "Epoch 89/100\n",
      "129/129 [==============================] - 96s 746ms/step - loss: 0.2914 - accuracy: 0.8984 - lr: 1.0000e-04 - val_loss: 1.0038 - val_accuracy: 0.7331 - val_lr: 1.0000e-04\n",
      "Epoch 90/100\n",
      "129/129 [==============================] - 98s 757ms/step - loss: 0.2714 - accuracy: 0.9011 - lr: 1.0000e-04 - val_loss: 1.0099 - val_accuracy: 0.7301 - val_lr: 1.0000e-04\n",
      "Epoch 91/100\n",
      "129/129 [==============================] - 96s 741ms/step - loss: 0.2850 - accuracy: 0.8970 - lr: 1.0000e-04 - val_loss: 1.0115 - val_accuracy: 0.7304 - val_lr: 1.0000e-04\n",
      "Epoch 92/100\n",
      "129/129 [==============================] - 98s 761ms/step - loss: 0.2664 - accuracy: 0.9022 - lr: 1.0000e-04 - val_loss: 0.9901 - val_accuracy: 0.7343 - val_lr: 1.0000e-04\n",
      "Epoch 93/100\n",
      "129/129 [==============================] - 97s 752ms/step - loss: 0.2582 - accuracy: 0.9056 - lr: 1.0000e-04 - val_loss: 1.0786 - val_accuracy: 0.6889 - val_lr: 1.0000e-04\n",
      "Epoch 94/100\n",
      "129/129 [==============================] - 98s 760ms/step - loss: 0.2678 - accuracy: 0.9038 - lr: 1.0000e-04 - val_loss: 1.0728 - val_accuracy: 0.7318 - val_lr: 1.0000e-04\n",
      "Epoch 95/100\n",
      "129/129 [==============================] - 96s 746ms/step - loss: 0.2570 - accuracy: 0.9070 - lr: 1.0000e-04 - val_loss: 1.0621 - val_accuracy: 0.7263 - val_lr: 1.0000e-04\n",
      "Epoch 96/100\n",
      "129/129 [==============================] - 98s 758ms/step - loss: 0.2684 - accuracy: 0.9048 - lr: 1.0000e-04 - val_loss: 1.0899 - val_accuracy: 0.7168 - val_lr: 1.0000e-04\n",
      "Epoch 97/100\n",
      "129/129 [==============================] - 96s 742ms/step - loss: 0.2443 - accuracy: 0.9119 - lr: 1.0000e-04 - val_loss: 1.0195 - val_accuracy: 0.7338 - val_lr: 1.0000e-04\n",
      "Epoch 98/100\n",
      "129/129 [==============================] - 98s 759ms/step - loss: 0.2526 - accuracy: 0.9097 - lr: 1.0000e-04 - val_loss: 1.0550 - val_accuracy: 0.7318 - val_lr: 1.0000e-04\n",
      "Epoch 99/100\n",
      "129/129 [==============================] - 96s 748ms/step - loss: 0.2352 - accuracy: 0.9162 - lr: 1.0000e-04 - val_loss: 1.0310 - val_accuracy: 0.7263 - val_lr: 1.0000e-04\n",
      "Epoch 100/100\n",
      "129/129 [==============================] - 99s 765ms/step - loss: 0.2355 - accuracy: 0.9163 - lr: 1.0000e-04 - val_loss: 1.0990 - val_accuracy: 0.7187 - val_lr: 1.0000e-04\n"
     ]
    }
   ],
   "source": [
    "history = model.fit(train_it, steps_per_epoch=(16439 // batch_size + 1), epochs=100, validation_data = val_it)"
   ]
  },
  {
   "cell_type": "code",
   "execution_count": 7,
   "metadata": {
    "execution": {
     "iopub.execute_input": "2021-03-30T18:54:00.211752Z",
     "iopub.status.busy": "2021-03-30T18:54:00.211171Z",
     "iopub.status.idle": "2021-03-30T18:54:18.389186Z",
     "shell.execute_reply": "2021-03-30T18:54:18.388483Z"
    },
    "papermill": {
     "duration": 21.715729,
     "end_time": "2021-03-30T18:54:18.389312",
     "exception": false,
     "start_time": "2021-03-30T18:53:56.673583",
     "status": "completed"
    },
    "tags": []
   },
   "outputs": [
    {
     "name": "stdout",
     "output_type": "stream",
     "text": [
      "129/129 [==============================] - 18s 139ms/step - loss: 1.1077 - accuracy: 0.7134 - lr: 1.0000e-04\n"
     ]
    }
   ],
   "source": [
    "preds = model.evaluate(val_it)"
   ]
  },
  {
   "cell_type": "code",
   "execution_count": 9,
   "metadata": {
    "execution": {
     "iopub.execute_input": "2021-03-30T19:02:55.787875Z",
     "iopub.status.busy": "2021-03-30T19:02:55.786711Z",
     "iopub.status.idle": "2021-03-30T19:02:56.075333Z",
     "shell.execute_reply": "2021-03-30T19:02:56.075758Z"
    },
    "papermill": {
     "duration": 3.831035,
     "end_time": "2021-03-30T19:02:56.075902",
     "exception": false,
     "start_time": "2021-03-30T19:02:52.244867",
     "status": "completed"
    },
    "tags": []
   },
   "outputs": [
    {
     "data": {
      "image/png": "[encoded data removed]",
      "text/plain": [
       "<Figure size 432x288 with 1 Axes>"
      ]
     },
     "metadata": {},
     "output_type": "display_data"
    },
    {
     "data": {
      "image/png": "[encoded data removed]",
      "text/plain": [
       "<Figure size 432x288 with 1 Axes>"
      ]
     },
     "metadata": {},
     "output_type": "display_data"
    }
   ],
   "source": [
    "matplotlib.rcParams['figure.facecolor'] = '#ffffff'\n",
    "# summarize history for accuracy\n",
    "plt.plot(history.history['accuracy'])\n",
    "plt.plot(history.history['val_accuracy'])\n",
    "plt.title('model accuracy')\n",
    "plt.ylabel('accuracy')\n",
    "plt.xlabel('epoch')\n",
    "plt.legend(['train', 'test'], loc='upper left')\n",
    "plt.show()\n",
    "# summarize history for loss\n",
    "plt.plot(history.history['loss'])\n",
    "plt.plot(history.history['val_loss'])\n",
    "plt.title('model loss')\n",
    "plt.ylabel('loss')\n",
    "plt.xlabel('epoch')\n",
    "plt.legend(['train', 'test'], loc='upper left')\n",
    "plt.show()"
   ]
  },
  {
   "cell_type": "code",
   "execution_count": 10,
   "metadata": {
    "execution": {
     "iopub.execute_input": "2021-03-30T19:03:03.372912Z",
     "iopub.status.busy": "2021-03-30T19:03:03.372095Z",
     "iopub.status.idle": "2021-03-30T19:03:27.940176Z",
     "shell.execute_reply": "2021-03-30T19:03:27.940886Z"
    },
    "papermill": {
     "duration": 28.057138,
     "end_time": "2021-03-30T19:03:27.941113",
     "exception": false,
     "start_time": "2021-03-30T19:02:59.883975",
     "status": "completed"
    },
    "tags": []
   },
   "outputs": [],
   "source": [
    "model.save('RestNet50')"
   ]
  }
 ],
 "metadata": {
  "kernelspec": {
   "display_name": "Python 3",
   "language": "python",
   "name": "python3"
  },
  "language_info": {
   "codemirror_mode": {
    "name": "ipython",
    "version": 3
   },
   "file_extension": ".py",
   "mimetype": "text/x-python",
   "name": "python",
   "nbconvert_exporter": "python",
   "pygments_lexer": "ipython3",
   "version": "3.8.5"
  },
  "papermill": {
   "default_parameters": {},
   "duration": 10299.868754,
   "end_time": "2021-03-30T19:03:35.297322",
   "environment_variables": {},
   "exception": null,
   "input_path": "__notebook__.ipynb",
   "output_path": "__notebook__.ipynb",
   "parameters": {},
   "start_time": "2021-03-30T16:11:55.428568",
   "version": "2.2.2"
  }
 },
 "nbformat": 4,
 "nbformat_minor": 4
}
