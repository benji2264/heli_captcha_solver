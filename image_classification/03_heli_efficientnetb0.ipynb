{
 "cells": [
  {
   "cell_type": "code",
   "execution_count": 1,
   "id": "received-aquarium",
   "metadata": {
    "execution": {
     "iopub.execute_input": "2021-04-02T06:33:04.609775Z",
     "iopub.status.busy": "2021-04-02T06:33:04.608996Z",
     "iopub.status.idle": "2021-04-02T06:33:09.383207Z",
     "shell.execute_reply": "2021-04-02T06:33:09.384213Z"
    },
    "papermill": {
     "duration": 4.78667,
     "end_time": "2021-04-02T06:33:09.384530",
     "exception": false,
     "start_time": "2021-04-02T06:33:04.597860",
     "status": "completed"
    },
    "tags": []
   },
   "outputs": [],
   "source": [
    "from tensorflow.keras.applications import EfficientNetB0\n",
    "from keras.preprocessing.image import ImageDataGenerator\n",
    "from tensorflow.keras.layers.experimental import preprocessing\n",
    "from keras import layers\n",
    "import tensorflow as tf\n",
    "import matplotlib\n",
    "import matplotlib.pyplot as plt"
   ]
  },
  {
   "cell_type": "code",
   "execution_count": 2,
   "id": "joint-jonathan",
   "metadata": {
    "execution": {
     "iopub.execute_input": "2021-04-02T06:33:09.410013Z",
     "iopub.status.busy": "2021-04-02T06:33:09.409275Z",
     "iopub.status.idle": "2021-04-02T06:33:14.281368Z",
     "shell.execute_reply": "2021-04-02T06:33:14.280889Z"
    },
    "papermill": {
     "duration": 4.888442,
     "end_time": "2021-04-02T06:33:14.281503",
     "exception": false,
     "start_time": "2021-04-02T06:33:09.393061",
     "status": "completed"
    },
    "tags": []
   },
   "outputs": [
    {
     "name": "stdout",
     "output_type": "stream",
     "text": [
      "Downloading data from https://storage.googleapis.com/keras-applications/efficientnetb0_notop.h5\n",
      "16711680/16705208 [==============================] - 0s 0us/step\n"
     ]
    }
   ],
   "source": [
    "model = EfficientNetB0(include_top=False, weights='imagenet')"
   ]
  },
  {
   "cell_type": "code",
   "execution_count": 3,
   "id": "japanese-ground",
   "metadata": {
    "execution": {
     "iopub.execute_input": "2021-04-02T06:33:14.300783Z",
     "iopub.status.busy": "2021-04-02T06:33:14.300235Z",
     "iopub.status.idle": "2021-04-02T06:33:14.304419Z",
     "shell.execute_reply": "2021-04-02T06:33:14.304002Z"
    },
    "papermill": {
     "duration": 0.01465,
     "end_time": "2021-04-02T06:33:14.304531",
     "exception": false,
     "start_time": "2021-04-02T06:33:14.289881",
     "status": "completed"
    },
    "tags": []
   },
   "outputs": [],
   "source": [
    "batch_size = 64\n",
    "NUM_CLASSES = 13\n",
    "IMG_SIZE = 224"
   ]
  },
  {
   "cell_type": "code",
   "execution_count": 4,
   "id": "completed-beauty",
   "metadata": {
    "execution": {
     "iopub.execute_input": "2021-04-02T06:33:14.327203Z",
     "iopub.status.busy": "2021-04-02T06:33:14.325600Z",
     "iopub.status.idle": "2021-04-02T06:33:14.327907Z",
     "shell.execute_reply": "2021-04-02T06:33:14.328309Z"
    },
    "papermill": {
     "duration": 0.016659,
     "end_time": "2021-04-02T06:33:14.328426",
     "exception": false,
     "start_time": "2021-04-02T06:33:14.311767",
     "status": "completed"
    },
    "tags": []
   },
   "outputs": [],
   "source": [
    "def build_model(num_classes):\n",
    "    inputs = layers.Input(shape=(IMG_SIZE, IMG_SIZE, 3))\n",
    "    model = EfficientNetB0(include_top=False, input_tensor=inputs, weights=\"imagenet\")\n",
    "\n",
    "    # Freeze the pretrained weights\n",
    "    model.trainable = False\n",
    "\n",
    "    # Rebuild top\n",
    "    x = layers.GlobalAveragePooling2D(name=\"avg_pool\")(model.output)\n",
    "    x = layers.BatchNormalization()(x)\n",
    "\n",
    "    top_dropout_rate = 0.2\n",
    "    x = layers.Dropout(top_dropout_rate, name=\"top_dropout\")(x)\n",
    "    outputs = layers.Dense(NUM_CLASSES, activation=\"softmax\", name=\"pred\")(x)\n",
    "\n",
    "    # Compile\n",
    "    model = tf.keras.Model(inputs, outputs, name=\"EfficientNet\")\n",
    "    optimizer = tf.keras.optimizers.Adam(learning_rate=2e-4)\n",
    "    model.compile(\n",
    "        optimizer=optimizer, loss=\"categorical_crossentropy\", metrics=[\"accuracy\"]\n",
    "    )\n",
    "    return model\n"
   ]
  },
  {
   "cell_type": "code",
   "execution_count": 5,
   "id": "dramatic-flashing",
   "metadata": {
    "execution": {
     "iopub.execute_input": "2021-04-02T06:33:14.351786Z",
     "iopub.status.busy": "2021-04-02T06:33:14.350975Z",
     "iopub.status.idle": "2021-04-02T14:59:25.661023Z",
     "shell.execute_reply": "2021-04-02T14:59:25.661516Z"
    },
    "papermill": {
     "duration": 30371.326093,
     "end_time": "2021-04-02T14:59:25.661700",
     "exception": false,
     "start_time": "2021-04-02T06:33:14.335607",
     "status": "completed"
    },
    "tags": []
   },
   "outputs": [
    {
     "name": "stdout",
     "output_type": "stream",
     "text": [
      "Found 16439 images belonging to 13 classes.\n",
      "Found 4117 images belonging to 13 classes.\n",
      "Epoch 1/100\n",
      "257/257 - 434s - loss: 2.4971 - accuracy: 0.1933 - val_loss: 2.2129 - val_accuracy: 0.2876\n",
      "Epoch 2/100\n",
      "257/257 - 293s - loss: 2.2582 - accuracy: 0.2577 - val_loss: 2.1161 - val_accuracy: 0.2876\n",
      "Epoch 3/100\n",
      "257/257 - 297s - loss: 2.1988 - accuracy: 0.2645 - val_loss: 2.0815 - val_accuracy: 0.2847\n",
      "Epoch 4/100\n",
      "257/257 - 308s - loss: 2.1736 - accuracy: 0.2637 - val_loss: 2.0629 - val_accuracy: 0.2888\n",
      "Epoch 5/100\n",
      "257/257 - 313s - loss: 2.1587 - accuracy: 0.2680 - val_loss: 2.0539 - val_accuracy: 0.2881\n",
      "Epoch 6/100\n",
      "257/257 - 303s - loss: 2.1555 - accuracy: 0.2671 - val_loss: 2.0534 - val_accuracy: 0.2905\n",
      "Epoch 7/100\n",
      "257/257 - 301s - loss: 2.1373 - accuracy: 0.2696 - val_loss: 2.0508 - val_accuracy: 0.2895\n",
      "Epoch 8/100\n",
      "257/257 - 304s - loss: 2.1368 - accuracy: 0.2686 - val_loss: 2.0425 - val_accuracy: 0.2890\n",
      "Epoch 9/100\n",
      "257/257 - 305s - loss: 2.1239 - accuracy: 0.2728 - val_loss: 2.0405 - val_accuracy: 0.2893\n",
      "Epoch 10/100\n",
      "257/257 - 304s - loss: 2.1189 - accuracy: 0.2704 - val_loss: 2.0340 - val_accuracy: 0.2910\n",
      "Epoch 11/100\n",
      "257/257 - 298s - loss: 2.1185 - accuracy: 0.2728 - val_loss: 2.0349 - val_accuracy: 0.2905\n",
      "Epoch 12/100\n",
      "257/257 - 289s - loss: 2.1130 - accuracy: 0.2739 - val_loss: 2.0312 - val_accuracy: 0.2929\n",
      "Epoch 13/100\n",
      "257/257 - 287s - loss: 2.1050 - accuracy: 0.2756 - val_loss: 2.0373 - val_accuracy: 0.2941\n",
      "Epoch 14/100\n",
      "257/257 - 289s - loss: 2.1017 - accuracy: 0.2795 - val_loss: 2.0285 - val_accuracy: 0.2917\n",
      "Epoch 15/100\n",
      "257/257 - 291s - loss: 2.0964 - accuracy: 0.2795 - val_loss: 2.0259 - val_accuracy: 0.2920\n",
      "Epoch 16/100\n",
      "257/257 - 288s - loss: 2.0958 - accuracy: 0.2804 - val_loss: 2.0204 - val_accuracy: 0.2961\n",
      "Epoch 17/100\n",
      "257/257 - 291s - loss: 2.0927 - accuracy: 0.2772 - val_loss: 2.0209 - val_accuracy: 0.2910\n",
      "Epoch 18/100\n",
      "257/257 - 295s - loss: 2.0930 - accuracy: 0.2799 - val_loss: 2.0313 - val_accuracy: 0.2934\n",
      "Epoch 19/100\n",
      "257/257 - 291s - loss: 2.0815 - accuracy: 0.2801 - val_loss: 2.0196 - val_accuracy: 0.2920\n",
      "Epoch 20/100\n",
      "257/257 - 289s - loss: 2.0768 - accuracy: 0.2809 - val_loss: 2.0276 - val_accuracy: 0.2903\n",
      "Epoch 21/100\n",
      "257/257 - 292s - loss: 2.0802 - accuracy: 0.2812 - val_loss: 2.0178 - val_accuracy: 0.2968\n",
      "Epoch 22/100\n",
      "257/257 - 295s - loss: 2.0719 - accuracy: 0.2865 - val_loss: 2.0232 - val_accuracy: 0.2922\n",
      "Epoch 23/100\n",
      "257/257 - 295s - loss: 2.0706 - accuracy: 0.2854 - val_loss: 2.0298 - val_accuracy: 0.2932\n",
      "Epoch 24/100\n",
      "257/257 - 295s - loss: 2.0673 - accuracy: 0.2879 - val_loss: 2.0190 - val_accuracy: 0.2951\n",
      "Epoch 25/100\n",
      "257/257 - 293s - loss: 2.0677 - accuracy: 0.2849 - val_loss: 2.0209 - val_accuracy: 0.2968\n",
      "Epoch 26/100\n",
      "257/257 - 296s - loss: 2.0662 - accuracy: 0.2802 - val_loss: 2.0237 - val_accuracy: 0.2985\n",
      "Epoch 27/100\n",
      "257/257 - 296s - loss: 2.0654 - accuracy: 0.2858 - val_loss: 2.0266 - val_accuracy: 0.2920\n",
      "Epoch 28/100\n",
      "257/257 - 295s - loss: 2.0628 - accuracy: 0.2852 - val_loss: 2.0275 - val_accuracy: 0.2932\n",
      "Epoch 29/100\n",
      "257/257 - 295s - loss: 2.0617 - accuracy: 0.2878 - val_loss: 2.0171 - val_accuracy: 0.2946\n",
      "Epoch 30/100\n",
      "257/257 - 298s - loss: 2.0651 - accuracy: 0.2872 - val_loss: 2.0108 - val_accuracy: 0.2963\n",
      "Epoch 31/100\n",
      "257/257 - 298s - loss: 2.0574 - accuracy: 0.2851 - val_loss: 2.0209 - val_accuracy: 0.3009\n",
      "Epoch 32/100\n",
      "257/257 - 299s - loss: 2.0594 - accuracy: 0.2877 - val_loss: 2.0119 - val_accuracy: 0.2958\n",
      "Epoch 33/100\n",
      "257/257 - 300s - loss: 2.0546 - accuracy: 0.2889 - val_loss: 2.0174 - val_accuracy: 0.2978\n",
      "Epoch 34/100\n",
      "257/257 - 296s - loss: 2.0542 - accuracy: 0.2923 - val_loss: 2.0074 - val_accuracy: 0.2992\n",
      "Epoch 35/100\n",
      "257/257 - 299s - loss: 2.0587 - accuracy: 0.2853 - val_loss: 2.0048 - val_accuracy: 0.2983\n",
      "Epoch 36/100\n",
      "257/257 - 295s - loss: 2.0486 - accuracy: 0.2881 - val_loss: 2.0209 - val_accuracy: 0.3024\n",
      "Epoch 37/100\n",
      "257/257 - 298s - loss: 2.0475 - accuracy: 0.2908 - val_loss: 2.0158 - val_accuracy: 0.2980\n",
      "Epoch 38/100\n",
      "257/257 - 301s - loss: 2.0493 - accuracy: 0.2868 - val_loss: 2.0192 - val_accuracy: 0.2983\n",
      "Epoch 39/100\n",
      "257/257 - 298s - loss: 2.0495 - accuracy: 0.2886 - val_loss: 2.0137 - val_accuracy: 0.2941\n",
      "Epoch 40/100\n",
      "257/257 - 298s - loss: 2.0517 - accuracy: 0.2871 - val_loss: 2.0136 - val_accuracy: 0.3002\n",
      "Epoch 41/100\n",
      "257/257 - 296s - loss: 2.0460 - accuracy: 0.2888 - val_loss: 2.0272 - val_accuracy: 0.2992\n",
      "Epoch 42/100\n",
      "257/257 - 294s - loss: 2.0486 - accuracy: 0.2879 - val_loss: 2.0079 - val_accuracy: 0.2997\n",
      "Epoch 43/100\n",
      "257/257 - 294s - loss: 2.0441 - accuracy: 0.2910 - val_loss: 2.0177 - val_accuracy: 0.3082\n",
      "Epoch 44/100\n",
      "257/257 - 295s - loss: 2.0447 - accuracy: 0.2920 - val_loss: 2.0039 - val_accuracy: 0.2963\n",
      "Epoch 45/100\n",
      "257/257 - 295s - loss: 2.0473 - accuracy: 0.2906 - val_loss: 2.0166 - val_accuracy: 0.2966\n",
      "Epoch 46/100\n",
      "257/257 - 295s - loss: 2.0401 - accuracy: 0.2895 - val_loss: 2.0111 - val_accuracy: 0.3053\n",
      "Epoch 47/100\n",
      "257/257 - 298s - loss: 2.0443 - accuracy: 0.2891 - val_loss: 2.0059 - val_accuracy: 0.3022\n",
      "Epoch 48/100\n",
      "257/257 - 298s - loss: 2.0468 - accuracy: 0.2899 - val_loss: 2.0103 - val_accuracy: 0.2975\n",
      "Epoch 49/100\n",
      "257/257 - 295s - loss: 2.0384 - accuracy: 0.2902 - val_loss: 2.0098 - val_accuracy: 0.2949\n",
      "Epoch 50/100\n",
      "257/257 - 298s - loss: 2.0425 - accuracy: 0.2906 - val_loss: 2.0100 - val_accuracy: 0.3068\n",
      "Epoch 51/100\n",
      "257/257 - 298s - loss: 2.0418 - accuracy: 0.2907 - val_loss: 2.0218 - val_accuracy: 0.3107\n",
      "Epoch 52/100\n",
      "257/257 - 297s - loss: 2.0423 - accuracy: 0.2898 - val_loss: 2.0130 - val_accuracy: 0.2990\n",
      "Epoch 53/100\n",
      "257/257 - 315s - loss: 2.0372 - accuracy: 0.2941 - val_loss: 2.0008 - val_accuracy: 0.3090\n",
      "Epoch 54/100\n",
      "257/257 - 319s - loss: 2.0292 - accuracy: 0.2941 - val_loss: 2.0176 - val_accuracy: 0.3233\n",
      "Epoch 55/100\n",
      "257/257 - 304s - loss: 2.0411 - accuracy: 0.2912 - val_loss: 2.0196 - val_accuracy: 0.3172\n",
      "Epoch 56/100\n",
      "257/257 - 299s - loss: 2.0381 - accuracy: 0.2922 - val_loss: 2.0123 - val_accuracy: 0.3116\n",
      "Epoch 57/100\n",
      "257/257 - 292s - loss: 2.0341 - accuracy: 0.2962 - val_loss: 2.0059 - val_accuracy: 0.3026\n",
      "Epoch 58/100\n",
      "257/257 - 293s - loss: 2.0365 - accuracy: 0.2957 - val_loss: 2.0011 - val_accuracy: 0.2980\n",
      "Epoch 59/100\n",
      "257/257 - 295s - loss: 2.0352 - accuracy: 0.2902 - val_loss: 2.0018 - val_accuracy: 0.3121\n",
      "Epoch 60/100\n",
      "257/257 - 294s - loss: 2.0316 - accuracy: 0.2946 - val_loss: 1.9965 - val_accuracy: 0.3012\n",
      "Epoch 61/100\n",
      "257/257 - 296s - loss: 2.0342 - accuracy: 0.2924 - val_loss: 1.9992 - val_accuracy: 0.3029\n",
      "Epoch 62/100\n",
      "257/257 - 298s - loss: 2.0334 - accuracy: 0.2969 - val_loss: 2.0084 - val_accuracy: 0.3104\n",
      "Epoch 63/100\n",
      "257/257 - 297s - loss: 2.0319 - accuracy: 0.2922 - val_loss: 2.0067 - val_accuracy: 0.3017\n",
      "Epoch 64/100\n",
      "257/257 - 297s - loss: 2.0337 - accuracy: 0.2955 - val_loss: 2.0119 - val_accuracy: 0.3192\n",
      "Epoch 65/100\n",
      "257/257 - 296s - loss: 2.0355 - accuracy: 0.2922 - val_loss: 2.0116 - val_accuracy: 0.3043\n",
      "Epoch 66/100\n",
      "257/257 - 294s - loss: 2.0344 - accuracy: 0.2924 - val_loss: 2.0125 - val_accuracy: 0.3160\n",
      "Epoch 67/100\n",
      "257/257 - 295s - loss: 2.0294 - accuracy: 0.2963 - val_loss: 2.0016 - val_accuracy: 0.3039\n",
      "Epoch 68/100\n",
      "257/257 - 294s - loss: 2.0305 - accuracy: 0.2925 - val_loss: 1.9893 - val_accuracy: 0.3024\n",
      "Epoch 69/100\n",
      "257/257 - 307s - loss: 2.0293 - accuracy: 0.2924 - val_loss: 2.0125 - val_accuracy: 0.3092\n",
      "Epoch 70/100\n",
      "257/257 - 311s - loss: 2.0297 - accuracy: 0.2922 - val_loss: 2.0104 - val_accuracy: 0.3060\n",
      "Epoch 71/100\n",
      "257/257 - 294s - loss: 2.0298 - accuracy: 0.2992 - val_loss: 2.0137 - val_accuracy: 0.3092\n",
      "Epoch 72/100\n",
      "257/257 - 294s - loss: 2.0321 - accuracy: 0.2942 - val_loss: 2.0054 - val_accuracy: 0.3085\n",
      "Epoch 73/100\n",
      "257/257 - 307s - loss: 2.0307 - accuracy: 0.2939 - val_loss: 2.0226 - val_accuracy: 0.3206\n",
      "Epoch 74/100\n",
      "257/257 - 312s - loss: 2.0319 - accuracy: 0.2919 - val_loss: 2.0000 - val_accuracy: 0.3002\n",
      "Epoch 75/100\n",
      "257/257 - 318s - loss: 2.0317 - accuracy: 0.2944 - val_loss: 1.9975 - val_accuracy: 0.3070\n",
      "Epoch 76/100\n",
      "257/257 - 313s - loss: 2.0324 - accuracy: 0.2972 - val_loss: 2.0065 - val_accuracy: 0.3029\n",
      "Epoch 77/100\n",
      "257/257 - 324s - loss: 2.0263 - accuracy: 0.2971 - val_loss: 1.9930 - val_accuracy: 0.3102\n",
      "Epoch 78/100\n",
      "257/257 - 321s - loss: 2.0243 - accuracy: 0.2943 - val_loss: 2.0102 - val_accuracy: 0.3216\n",
      "Epoch 79/100\n",
      "257/257 - 315s - loss: 2.0252 - accuracy: 0.2902 - val_loss: 1.9977 - val_accuracy: 0.3031\n",
      "Epoch 80/100\n",
      "257/257 - 312s - loss: 2.0286 - accuracy: 0.2938 - val_loss: 2.0048 - val_accuracy: 0.3090\n",
      "Epoch 81/100\n",
      "257/257 - 314s - loss: 2.0220 - accuracy: 0.2961 - val_loss: 2.0069 - val_accuracy: 0.3046\n",
      "Epoch 82/100\n",
      "257/257 - 320s - loss: 2.0294 - accuracy: 0.2930 - val_loss: 2.0113 - val_accuracy: 0.3172\n",
      "Epoch 83/100\n",
      "257/257 - 315s - loss: 2.0294 - accuracy: 0.2919 - val_loss: 1.9978 - val_accuracy: 0.3039\n",
      "Epoch 84/100\n",
      "257/257 - 312s - loss: 2.0224 - accuracy: 0.2975 - val_loss: 2.0137 - val_accuracy: 0.3216\n",
      "Epoch 85/100\n",
      "257/257 - 312s - loss: 2.0220 - accuracy: 0.2952 - val_loss: 1.9976 - val_accuracy: 0.3121\n",
      "Epoch 86/100\n",
      "257/257 - 315s - loss: 2.0207 - accuracy: 0.2990 - val_loss: 1.9972 - val_accuracy: 0.3036\n",
      "Epoch 87/100\n",
      "257/257 - 314s - loss: 2.0275 - accuracy: 0.2958 - val_loss: 2.0112 - val_accuracy: 0.3192\n",
      "Epoch 88/100\n",
      "257/257 - 317s - loss: 2.0304 - accuracy: 0.2952 - val_loss: 2.0250 - val_accuracy: 0.3102\n",
      "Epoch 89/100\n",
      "257/257 - 316s - loss: 2.0296 - accuracy: 0.2973 - val_loss: 2.0030 - val_accuracy: 0.3124\n",
      "Epoch 90/100\n",
      "257/257 - 314s - loss: 2.0303 - accuracy: 0.2938 - val_loss: 2.0028 - val_accuracy: 0.3284\n",
      "Epoch 91/100\n",
      "257/257 - 314s - loss: 2.0256 - accuracy: 0.2944 - val_loss: 2.0138 - val_accuracy: 0.3274\n",
      "Epoch 92/100\n",
      "257/257 - 319s - loss: 2.0261 - accuracy: 0.2955 - val_loss: 2.0139 - val_accuracy: 0.3221\n",
      "Epoch 93/100\n",
      "257/257 - 313s - loss: 2.0284 - accuracy: 0.2951 - val_loss: 1.9979 - val_accuracy: 0.3107\n",
      "Epoch 94/100\n",
      "257/257 - 317s - loss: 2.0290 - accuracy: 0.2962 - val_loss: 2.0108 - val_accuracy: 0.3255\n",
      "Epoch 95/100\n",
      "257/257 - 315s - loss: 2.0290 - accuracy: 0.2952 - val_loss: 1.9992 - val_accuracy: 0.3000\n",
      "Epoch 96/100\n",
      "257/257 - 314s - loss: 2.0263 - accuracy: 0.2961 - val_loss: 2.0061 - val_accuracy: 0.3160\n",
      "Epoch 97/100\n",
      "257/257 - 316s - loss: 2.0238 - accuracy: 0.2973 - val_loss: 2.0140 - val_accuracy: 0.3104\n",
      "Epoch 98/100\n",
      "257/257 - 313s - loss: 2.0210 - accuracy: 0.2992 - val_loss: 2.0053 - val_accuracy: 0.3235\n",
      "Epoch 99/100\n",
      "257/257 - 311s - loss: 2.0251 - accuracy: 0.2933 - val_loss: 1.9991 - val_accuracy: 0.3007\n",
      "Epoch 100/100\n",
      "257/257 - 315s - loss: 2.0290 - accuracy: 0.2948 - val_loss: 2.0142 - val_accuracy: 0.3114\n"
     ]
    }
   ],
   "source": [
    "model = build_model(num_classes=NUM_CLASSES)\n",
    "\n",
    "datagen = ImageDataGenerator(rescale=1.0/255.0, samplewise_center=True, samplewise_std_normalization=True,\n",
    "    rotation_range=20, zoom_range=0.15,\n",
    "    width_shift_range=0.2, height_shift_range=0.2, shear_range=0.15, brightness_range=[0.2,1.0],\n",
    "    horizontal_flip=True, fill_mode=\"nearest\")\n",
    "\n",
    "train_it = datagen.flow_from_directory('../input/recaptcha-data/recaptcha_data/train/', target_size=(IMG_SIZE, IMG_SIZE), batch_size = batch_size)\n",
    "val_it = datagen.flow_from_directory('../input/recaptcha-data/recaptcha_data/val', target_size=(IMG_SIZE, IMG_SIZE))\n",
    "\n",
    "epochs = 100\n",
    "history = model.fit(train_it, epochs=epochs, validation_data=val_it, verbose=2)"
   ]
  },
  {
   "cell_type": "code",
   "execution_count": 6,
   "id": "returning-mozambique",
   "metadata": {
    "execution": {
     "iopub.execute_input": "2021-04-02T14:59:25.784103Z",
     "iopub.status.busy": "2021-04-02T14:59:25.783496Z",
     "iopub.status.idle": "2021-04-02T15:00:24.022522Z",
     "shell.execute_reply": "2021-04-02T15:00:24.021811Z"
    },
    "papermill": {
     "duration": 58.301899,
     "end_time": "2021-04-02T15:00:24.022694",
     "exception": false,
     "start_time": "2021-04-02T14:59:25.720795",
     "status": "completed"
    },
    "tags": []
   },
   "outputs": [
    {
     "name": "stdout",
     "output_type": "stream",
     "text": [
      "129/129 [==============================] - 58s 448ms/step - loss: 2.0116 - accuracy: 0.3121\n"
     ]
    }
   ],
   "source": [
    "preds = model.evaluate(val_it)"
   ]
  },
  {
   "cell_type": "code",
   "execution_count": 7,
   "id": "vietnamese-violence",
   "metadata": {
    "execution": {
     "iopub.execute_input": "2021-04-02T15:00:24.244923Z",
     "iopub.status.busy": "2021-04-02T15:00:24.242469Z",
     "iopub.status.idle": "2021-04-02T15:00:24.494951Z",
     "shell.execute_reply": "2021-04-02T15:00:24.495439Z"
    },
    "papermill": {
     "duration": 0.379733,
     "end_time": "2021-04-02T15:00:24.495610",
     "exception": false,
     "start_time": "2021-04-02T15:00:24.115877",
     "status": "completed"
    },
    "tags": []
   },
   "outputs": [
    {
     "data": {
      "image/png": "[encoded data removed]",
      "text/plain": [
       "<Figure size 432x288 with 1 Axes>"
      ]
     },
     "metadata": {},
     "output_type": "display_data"
    },
    {
     "data": {
      "image/png": "[encoded data removed]",
      "text/plain": [
       "<Figure size 432x288 with 1 Axes>"
      ]
     },
     "metadata": {},
     "output_type": "display_data"
    }
   ],
   "source": [
    "matplotlib.rcParams['figure.facecolor'] = '#ffffff'\n",
    "# summarize history for accuracy\n",
    "plt.plot(history.history['accuracy'])\n",
    "plt.plot(history.history['val_accuracy'])\n",
    "plt.title('model accuracy')\n",
    "plt.ylabel('accuracy')\n",
    "plt.xlabel('epoch')\n",
    "plt.legend(['train', 'test'], loc='upper left')\n",
    "plt.show()\n",
    "# summarize history for loss\n",
    "plt.plot(history.history['loss'])\n",
    "plt.plot(history.history['val_loss'])\n",
    "plt.title('model loss')\n",
    "plt.ylabel('loss')\n",
    "plt.xlabel('epoch')\n",
    "plt.legend(['train', 'test'], loc='upper left')\n",
    "plt.show()"
   ]
  },
  {
   "cell_type": "code",
   "execution_count": 8,
   "id": "incomplete-survey",
   "metadata": {
    "execution": {
     "iopub.execute_input": "2021-04-02T15:00:24.696103Z",
     "iopub.status.busy": "2021-04-02T15:00:24.695350Z",
     "iopub.status.idle": "2021-04-02T15:00:53.426745Z",
     "shell.execute_reply": "2021-04-02T15:00:53.425558Z"
    },
    "papermill": {
     "duration": 28.833144,
     "end_time": "2021-04-02T15:00:53.426934",
     "exception": false,
     "start_time": "2021-04-02T15:00:24.593790",
     "status": "completed"
    },
    "tags": []
   },
   "outputs": [],
   "source": [
    "model.save('EfficientNetB0')"
   ]
  }
 ],
 "metadata": {
  "kernelspec": {
   "display_name": "Python 3",
   "language": "python",
   "name": "python3"
  },
  "language_info": {
   "codemirror_mode": {
    "name": "ipython",
    "version": 3
   },
   "file_extension": ".py",
   "mimetype": "text/x-python",
   "name": "python",
   "nbconvert_exporter": "python",
   "pygments_lexer": "ipython3",
   "version": "3.7.9"
  },
  "papermill": {
   "default_parameters": {},
   "duration": 30477.517604,
   "end_time": "2021-04-02T15:00:56.691743",
   "environment_variables": {},
   "exception": null,
   "input_path": "__notebook__.ipynb",
   "output_path": "__notebook__.ipynb",
   "parameters": {},
   "start_time": "2021-04-02T06:32:59.174139",
   "version": "2.3.2"
  }
 },
 "nbformat": 4,
 "nbformat_minor": 5
}
