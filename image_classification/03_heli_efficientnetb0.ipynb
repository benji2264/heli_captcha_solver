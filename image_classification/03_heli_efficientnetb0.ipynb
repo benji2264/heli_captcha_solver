{
 "cells": [
  {
   "cell_type": "code",
   "execution_count": 1,
   "id": "provincial-punch",
   "metadata": {
    "execution": {
     "iopub.execute_input": "2021-04-01T19:23:20.177925Z",
     "iopub.status.busy": "2021-04-01T19:23:20.177079Z",
     "iopub.status.idle": "2021-04-01T19:23:25.055707Z",
     "shell.execute_reply": "2021-04-01T19:23:25.054570Z"
    },
    "papermill": {
     "duration": 4.890922,
     "end_time": "2021-04-01T19:23:25.055867",
     "exception": false,
     "start_time": "2021-04-01T19:23:20.164945",
     "status": "completed"
    },
    "tags": []
   },
   "outputs": [],
   "source": [
    "from tensorflow.keras.applications import EfficientNetB0\n",
    "from keras.preprocessing.image import ImageDataGenerator\n",
    "from tensorflow.keras.layers.experimental import preprocessing\n",
    "from keras import layers\n",
    "import tensorflow as tf\n",
    "import matplotlib\n",
    "import matplotlib.pyplot as plt"
   ]
  },
  {
   "cell_type": "code",
   "execution_count": 2,
   "id": "elegant-piece",
   "metadata": {
    "execution": {
     "iopub.execute_input": "2021-04-01T19:23:25.076323Z",
     "iopub.status.busy": "2021-04-01T19:23:25.075546Z",
     "iopub.status.idle": "2021-04-01T19:23:30.233689Z",
     "shell.execute_reply": "2021-04-01T19:23:30.232046Z"
    },
    "papermill": {
     "duration": 5.171703,
     "end_time": "2021-04-01T19:23:30.233827",
     "exception": false,
     "start_time": "2021-04-01T19:23:25.062124",
     "status": "completed"
    },
    "tags": []
   },
   "outputs": [
    {
     "name": "stdout",
     "output_type": "stream",
     "text": [
      "Downloading data from https://storage.googleapis.com/keras-applications/efficientnetb0_notop.h5\n",
      "16711680/16705208 [==============================] - 0s 0us/step\n"
     ]
    }
   ],
   "source": [
    "model = EfficientNetB0(include_top=False, weights='imagenet')"
   ]
  },
  {
   "cell_type": "code",
   "execution_count": 3,
   "id": "portuguese-pencil",
   "metadata": {
    "execution": {
     "iopub.execute_input": "2021-04-01T19:23:30.255196Z",
     "iopub.status.busy": "2021-04-01T19:23:30.253145Z",
     "iopub.status.idle": "2021-04-01T19:23:30.255868Z",
     "shell.execute_reply": "2021-04-01T19:23:30.256272Z"
    },
    "papermill": {
     "duration": 0.014758,
     "end_time": "2021-04-01T19:23:30.256393",
     "exception": false,
     "start_time": "2021-04-01T19:23:30.241635",
     "status": "completed"
    },
    "tags": []
   },
   "outputs": [],
   "source": [
    "batch_size = 64\n",
    "NUM_CLASSES = 13\n",
    "IMG_SIZE = 224"
   ]
  },
  {
   "cell_type": "code",
   "execution_count": 4,
   "id": "joined-ottawa",
   "metadata": {
    "execution": {
     "iopub.execute_input": "2021-04-01T19:23:30.281052Z",
     "iopub.status.busy": "2021-04-01T19:23:30.279378Z",
     "iopub.status.idle": "2021-04-01T19:23:30.281655Z",
     "shell.execute_reply": "2021-04-01T19:23:30.282065Z"
    },
    "papermill": {
     "duration": 0.017901,
     "end_time": "2021-04-01T19:23:30.282195",
     "exception": false,
     "start_time": "2021-04-01T19:23:30.264294",
     "status": "completed"
    },
    "tags": []
   },
   "outputs": [],
   "source": [
    "def build_model(num_classes):\n",
    "    inputs = layers.Input(shape=(IMG_SIZE, IMG_SIZE, 3))\n",
    "    model = EfficientNetB0(include_top=False, input_tensor=inputs, weights=\"imagenet\")\n",
    "\n",
    "    # Freeze the pretrained weights\n",
    "    model.trainable = False\n",
    "\n",
    "    # Rebuild top\n",
    "    x = layers.GlobalAveragePooling2D(name=\"avg_pool\")(model.output)\n",
    "    x = layers.BatchNormalization()(x)\n",
    "\n",
    "    top_dropout_rate = 0.2\n",
    "    x = layers.Dropout(top_dropout_rate, name=\"top_dropout\")(x)\n",
    "    outputs = layers.Dense(NUM_CLASSES, activation=\"softmax\", name=\"pred\")(x)\n",
    "\n",
    "    # Compile\n",
    "    model = tf.keras.Model(inputs, outputs, name=\"EfficientNet\")\n",
    "    optimizer = tf.keras.optimizers.Adam(learning_rate=1e-2)\n",
    "    model.compile(\n",
    "        optimizer=optimizer, loss=\"categorical_crossentropy\", metrics=[\"accuracy\"]\n",
    "    )\n",
    "    return model\n"
   ]
  },
  {
   "cell_type": "code",
   "execution_count": 5,
   "id": "coordinated-blocking",
   "metadata": {
    "execution": {
     "iopub.execute_input": "2021-04-01T19:23:30.306049Z",
     "iopub.status.busy": "2021-04-01T19:23:30.305055Z",
     "iopub.status.idle": "2021-04-02T01:55:45.295422Z",
     "shell.execute_reply": "2021-04-02T01:55:45.296082Z"
    },
    "papermill": {
     "duration": 23535.006573,
     "end_time": "2021-04-02T01:55:45.296274",
     "exception": false,
     "start_time": "2021-04-01T19:23:30.289701",
     "status": "completed"
    },
    "tags": []
   },
   "outputs": [
    {
     "name": "stdout",
     "output_type": "stream",
     "text": [
      "Found 16439 images belonging to 13 classes.\n",
      "Found 4117 images belonging to 13 classes.\n",
      "Epoch 1/80\n",
      "257/257 - 433s - loss: 2.7205 - accuracy: 0.2209 - val_loss: 2.1570 - val_accuracy: 0.2876\n",
      "Epoch 2/80\n",
      "257/257 - 291s - loss: 2.3184 - accuracy: 0.2479 - val_loss: 2.1046 - val_accuracy: 0.2917\n",
      "Epoch 3/80\n",
      "257/257 - 291s - loss: 2.1785 - accuracy: 0.2655 - val_loss: 2.0556 - val_accuracy: 0.2849\n",
      "Epoch 4/80\n",
      "257/257 - 290s - loss: 2.1169 - accuracy: 0.2764 - val_loss: 2.0967 - val_accuracy: 0.2963\n",
      "Epoch 5/80\n",
      "257/257 - 289s - loss: 2.0991 - accuracy: 0.2825 - val_loss: 2.0719 - val_accuracy: 0.2915\n",
      "Epoch 6/80\n",
      "257/257 - 288s - loss: 2.1004 - accuracy: 0.2798 - val_loss: 2.0534 - val_accuracy: 0.2886\n",
      "Epoch 7/80\n",
      "257/257 - 292s - loss: 2.0975 - accuracy: 0.2827 - val_loss: 2.0613 - val_accuracy: 0.2888\n",
      "Epoch 8/80\n",
      "257/257 - 297s - loss: 2.0946 - accuracy: 0.2843 - val_loss: 2.0473 - val_accuracy: 0.2912\n",
      "Epoch 9/80\n",
      "257/257 - 291s - loss: 2.0874 - accuracy: 0.2843 - val_loss: 2.0727 - val_accuracy: 0.2898\n",
      "Epoch 10/80\n",
      "257/257 - 290s - loss: 2.0878 - accuracy: 0.2881 - val_loss: 2.0451 - val_accuracy: 0.2924\n",
      "Epoch 11/80\n",
      "257/257 - 291s - loss: 2.0852 - accuracy: 0.2865 - val_loss: 2.0489 - val_accuracy: 0.2886\n",
      "Epoch 12/80\n",
      "257/257 - 290s - loss: 2.0832 - accuracy: 0.2864 - val_loss: 2.0420 - val_accuracy: 0.2898\n",
      "Epoch 13/80\n",
      "257/257 - 289s - loss: 2.0860 - accuracy: 0.2877 - val_loss: 2.0798 - val_accuracy: 0.2929\n",
      "Epoch 14/80\n",
      "257/257 - 290s - loss: 2.0865 - accuracy: 0.2862 - val_loss: 2.0481 - val_accuracy: 0.2924\n",
      "Epoch 15/80\n",
      "257/257 - 290s - loss: 2.0877 - accuracy: 0.2865 - val_loss: 2.0490 - val_accuracy: 0.2895\n",
      "Epoch 16/80\n",
      "257/257 - 289s - loss: 2.0858 - accuracy: 0.2881 - val_loss: 2.0555 - val_accuracy: 0.2881\n",
      "Epoch 17/80\n",
      "257/257 - 290s - loss: 2.0897 - accuracy: 0.2846 - val_loss: 2.0714 - val_accuracy: 0.2888\n",
      "Epoch 18/80\n",
      "257/257 - 289s - loss: 2.0903 - accuracy: 0.2867 - val_loss: 2.0562 - val_accuracy: 0.2869\n",
      "Epoch 19/80\n",
      "257/257 - 288s - loss: 2.0920 - accuracy: 0.2835 - val_loss: 2.0479 - val_accuracy: 0.2934\n",
      "Epoch 20/80\n",
      "257/257 - 292s - loss: 2.0885 - accuracy: 0.2871 - val_loss: 2.0727 - val_accuracy: 0.2873\n",
      "Epoch 21/80\n",
      "257/257 - 290s - loss: 2.0943 - accuracy: 0.2839 - val_loss: 2.0766 - val_accuracy: 0.2905\n",
      "Epoch 22/80\n",
      "257/257 - 289s - loss: 2.0977 - accuracy: 0.2823 - val_loss: 2.0511 - val_accuracy: 0.2927\n",
      "Epoch 23/80\n",
      "257/257 - 290s - loss: 2.0955 - accuracy: 0.2822 - val_loss: 2.0543 - val_accuracy: 0.2900\n",
      "Epoch 24/80\n",
      "257/257 - 289s - loss: 2.0922 - accuracy: 0.2835 - val_loss: 2.1142 - val_accuracy: 0.2893\n",
      "Epoch 25/80\n",
      "257/257 - 289s - loss: 2.0995 - accuracy: 0.2837 - val_loss: 2.0443 - val_accuracy: 0.2924\n",
      "Epoch 26/80\n",
      "257/257 - 291s - loss: 2.0989 - accuracy: 0.2829 - val_loss: 2.0597 - val_accuracy: 0.2898\n",
      "Epoch 27/80\n",
      "257/257 - 291s - loss: 2.0947 - accuracy: 0.2836 - val_loss: 2.0649 - val_accuracy: 0.2878\n",
      "Epoch 28/80\n",
      "257/257 - 292s - loss: 2.1006 - accuracy: 0.2821 - val_loss: 2.0566 - val_accuracy: 0.2873\n",
      "Epoch 29/80\n",
      "257/257 - 293s - loss: 2.1014 - accuracy: 0.2858 - val_loss: 2.0531 - val_accuracy: 0.2917\n",
      "Epoch 30/80\n",
      "257/257 - 291s - loss: 2.0904 - accuracy: 0.2855 - val_loss: 2.0619 - val_accuracy: 0.2912\n",
      "Epoch 31/80\n",
      "257/257 - 289s - loss: 2.1027 - accuracy: 0.2790 - val_loss: 2.0486 - val_accuracy: 0.2844\n",
      "Epoch 32/80\n",
      "257/257 - 292s - loss: 2.1024 - accuracy: 0.2831 - val_loss: 2.0451 - val_accuracy: 0.2944\n",
      "Epoch 33/80\n",
      "257/257 - 295s - loss: 2.0956 - accuracy: 0.2828 - val_loss: 2.0809 - val_accuracy: 0.2876\n",
      "Epoch 34/80\n",
      "257/257 - 289s - loss: 2.0949 - accuracy: 0.2814 - val_loss: 2.0716 - val_accuracy: 0.2903\n",
      "Epoch 35/80\n",
      "257/257 - 289s - loss: 2.0981 - accuracy: 0.2835 - val_loss: 2.0700 - val_accuracy: 0.2883\n",
      "Epoch 36/80\n",
      "257/257 - 289s - loss: 2.1019 - accuracy: 0.2850 - val_loss: 2.0418 - val_accuracy: 0.2866\n",
      "Epoch 37/80\n",
      "257/257 - 290s - loss: 2.1012 - accuracy: 0.2783 - val_loss: 2.0753 - val_accuracy: 0.3002\n",
      "Epoch 38/80\n",
      "257/257 - 290s - loss: 2.0973 - accuracy: 0.2820 - val_loss: 2.0646 - val_accuracy: 0.2915\n",
      "Epoch 39/80\n",
      "257/257 - 293s - loss: 2.1055 - accuracy: 0.2799 - val_loss: 2.0739 - val_accuracy: 0.2890\n",
      "Epoch 40/80\n",
      "257/257 - 289s - loss: 2.1064 - accuracy: 0.2818 - val_loss: 2.0767 - val_accuracy: 0.2915\n",
      "Epoch 41/80\n",
      "257/257 - 288s - loss: 2.0978 - accuracy: 0.2815 - val_loss: 2.0835 - val_accuracy: 0.2898\n",
      "Epoch 42/80\n",
      "257/257 - 288s - loss: 2.0938 - accuracy: 0.2817 - val_loss: 2.0620 - val_accuracy: 0.2912\n",
      "Epoch 43/80\n",
      "257/257 - 288s - loss: 2.0959 - accuracy: 0.2846 - val_loss: 2.0508 - val_accuracy: 0.2929\n",
      "Epoch 44/80\n",
      "257/257 - 289s - loss: 2.1065 - accuracy: 0.2809 - val_loss: 2.0566 - val_accuracy: 0.2910\n",
      "Epoch 45/80\n",
      "257/257 - 293s - loss: 2.0965 - accuracy: 0.2827 - val_loss: 2.0603 - val_accuracy: 0.2920\n",
      "Epoch 46/80\n",
      "257/257 - 299s - loss: 2.0967 - accuracy: 0.2827 - val_loss: 2.0620 - val_accuracy: 0.2944\n",
      "Epoch 47/80\n",
      "257/257 - 302s - loss: 2.1022 - accuracy: 0.2814 - val_loss: 2.0514 - val_accuracy: 0.2954\n",
      "Epoch 48/80\n",
      "257/257 - 303s - loss: 2.0983 - accuracy: 0.2839 - val_loss: 2.0748 - val_accuracy: 0.2903\n",
      "Epoch 49/80\n",
      "257/257 - 304s - loss: 2.0980 - accuracy: 0.2840 - val_loss: 2.0445 - val_accuracy: 0.2881\n",
      "Epoch 50/80\n",
      "257/257 - 307s - loss: 2.1078 - accuracy: 0.2849 - val_loss: 2.0731 - val_accuracy: 0.2866\n",
      "Epoch 51/80\n",
      "257/257 - 306s - loss: 2.1009 - accuracy: 0.2809 - val_loss: 2.0541 - val_accuracy: 0.2903\n",
      "Epoch 52/80\n",
      "257/257 - 304s - loss: 2.1006 - accuracy: 0.2815 - val_loss: 2.0687 - val_accuracy: 0.2890\n",
      "Epoch 53/80\n",
      "257/257 - 306s - loss: 2.0978 - accuracy: 0.2833 - val_loss: 2.0551 - val_accuracy: 0.2907\n",
      "Epoch 54/80\n",
      "257/257 - 306s - loss: 2.0975 - accuracy: 0.2840 - val_loss: 2.0618 - val_accuracy: 0.2937\n",
      "Epoch 55/80\n",
      "257/257 - 304s - loss: 2.0958 - accuracy: 0.2823 - val_loss: 2.0622 - val_accuracy: 0.2898\n",
      "Epoch 56/80\n",
      "257/257 - 294s - loss: 2.1002 - accuracy: 0.2861 - val_loss: 2.0677 - val_accuracy: 0.2905\n",
      "Epoch 57/80\n",
      "257/257 - 290s - loss: 2.0929 - accuracy: 0.2849 - val_loss: 2.0781 - val_accuracy: 0.2910\n",
      "Epoch 58/80\n",
      "257/257 - 289s - loss: 2.1010 - accuracy: 0.2807 - val_loss: 2.1162 - val_accuracy: 0.2810\n",
      "Epoch 59/80\n",
      "257/257 - 292s - loss: 2.1044 - accuracy: 0.2827 - val_loss: 2.0517 - val_accuracy: 0.2903\n",
      "Epoch 60/80\n",
      "257/257 - 290s - loss: 2.1022 - accuracy: 0.2802 - val_loss: 2.0529 - val_accuracy: 0.2905\n",
      "Epoch 61/80\n",
      "257/257 - 291s - loss: 2.1052 - accuracy: 0.2824 - val_loss: 2.0451 - val_accuracy: 0.2883\n",
      "Epoch 62/80\n",
      "257/257 - 289s - loss: 2.0991 - accuracy: 0.2798 - val_loss: 2.0689 - val_accuracy: 0.2907\n",
      "Epoch 63/80\n",
      "257/257 - 288s - loss: 2.0981 - accuracy: 0.2853 - val_loss: 2.0858 - val_accuracy: 0.2628\n",
      "Epoch 64/80\n",
      "257/257 - 291s - loss: 2.1007 - accuracy: 0.2814 - val_loss: 2.0583 - val_accuracy: 0.2907\n",
      "Epoch 65/80\n",
      "257/257 - 289s - loss: 2.0978 - accuracy: 0.2817 - val_loss: 2.0500 - val_accuracy: 0.2917\n",
      "Epoch 66/80\n",
      "257/257 - 290s - loss: 2.1042 - accuracy: 0.2847 - val_loss: 2.0691 - val_accuracy: 0.2905\n",
      "Epoch 67/80\n",
      "257/257 - 289s - loss: 2.1005 - accuracy: 0.2838 - val_loss: 2.0787 - val_accuracy: 0.2859\n",
      "Epoch 68/80\n",
      "257/257 - 288s - loss: 2.1044 - accuracy: 0.2813 - val_loss: 2.0517 - val_accuracy: 0.2951\n",
      "Epoch 69/80\n",
      "257/257 - 289s - loss: 2.1012 - accuracy: 0.2836 - val_loss: 2.0716 - val_accuracy: 0.2871\n",
      "Epoch 70/80\n",
      "257/257 - 288s - loss: 2.0940 - accuracy: 0.2816 - val_loss: 2.0626 - val_accuracy: 0.2903\n",
      "Epoch 71/80\n",
      "257/257 - 287s - loss: 2.1002 - accuracy: 0.2840 - val_loss: 2.1018 - val_accuracy: 0.2922\n",
      "Epoch 72/80\n",
      "257/257 - 288s - loss: 2.1067 - accuracy: 0.2818 - val_loss: 2.0707 - val_accuracy: 0.2869\n",
      "Epoch 73/80\n",
      "257/257 - 289s - loss: 2.0984 - accuracy: 0.2809 - val_loss: 2.0569 - val_accuracy: 0.2898\n",
      "Epoch 74/80\n",
      "257/257 - 293s - loss: 2.0995 - accuracy: 0.2860 - val_loss: 2.0539 - val_accuracy: 0.2844\n",
      "Epoch 75/80\n",
      "257/257 - 295s - loss: 2.0987 - accuracy: 0.2822 - val_loss: 2.0607 - val_accuracy: 0.2883\n",
      "Epoch 76/80\n",
      "257/257 - 298s - loss: 2.0985 - accuracy: 0.2836 - val_loss: 2.0638 - val_accuracy: 0.2920\n",
      "Epoch 77/80\n",
      "257/257 - 295s - loss: 2.0996 - accuracy: 0.2804 - val_loss: 2.0541 - val_accuracy: 0.2898\n",
      "Epoch 78/80\n",
      "257/257 - 293s - loss: 2.1018 - accuracy: 0.2801 - val_loss: 2.0636 - val_accuracy: 0.2873\n",
      "Epoch 79/80\n",
      "257/257 - 291s - loss: 2.0970 - accuracy: 0.2831 - val_loss: 2.0536 - val_accuracy: 0.2929\n",
      "Epoch 80/80\n",
      "257/257 - 288s - loss: 2.0981 - accuracy: 0.2818 - val_loss: 2.0554 - val_accuracy: 0.2924\n"
     ]
    }
   ],
   "source": [
    "model = build_model(num_classes=NUM_CLASSES)\n",
    "\n",
    "datagen = ImageDataGenerator(rescale=1.0/255.0, samplewise_center=True, samplewise_std_normalization=True,\n",
    "    rotation_range=20, zoom_range=0.15,\n",
    "    width_shift_range=0.2, height_shift_range=0.2, shear_range=0.15, brightness_range=[0.2,1.0],\n",
    "    horizontal_flip=True, fill_mode=\"nearest\")\n",
    "\n",
    "train_it = datagen.flow_from_directory('../input/recaptcha-data/recaptcha_data/train/', target_size=(IMG_SIZE, IMG_SIZE), batch_size = batch_size)\n",
    "val_it = datagen.flow_from_directory('../input/recaptcha-data/recaptcha_data/val', target_size=(IMG_SIZE, IMG_SIZE))\n",
    "\n",
    "epochs = 80\n",
    "history = model.fit(train_it, epochs=epochs, validation_data=val_it, verbose=2)"
   ]
  },
  {
   "cell_type": "code",
   "execution_count": 6,
   "id": "conventional-stuff",
   "metadata": {
    "execution": {
     "iopub.execute_input": "2021-04-02T01:55:45.485540Z",
     "iopub.status.busy": "2021-04-02T01:55:45.484890Z",
     "iopub.status.idle": "2021-04-02T01:56:41.790355Z",
     "shell.execute_reply": "2021-04-02T01:56:41.789926Z"
    },
    "papermill": {
     "duration": 56.396841,
     "end_time": "2021-04-02T01:56:41.790513",
     "exception": false,
     "start_time": "2021-04-02T01:55:45.393672",
     "status": "completed"
    },
    "tags": []
   },
   "outputs": [
    {
     "name": "stdout",
     "output_type": "stream",
     "text": [
      "129/129 [==============================] - 56s 432ms/step - loss: 2.0558 - accuracy: 0.2866\n"
     ]
    }
   ],
   "source": [
    "preds = model.evaluate(val_it)"
   ]
  },
  {
   "cell_type": "code",
   "execution_count": 7,
   "id": "ranking-raising",
   "metadata": {
    "execution": {
     "iopub.execute_input": "2021-04-02T01:56:41.989525Z",
     "iopub.status.busy": "2021-04-02T01:56:41.986936Z",
     "iopub.status.idle": "2021-04-02T01:56:42.263292Z",
     "shell.execute_reply": "2021-04-02T01:56:42.263702Z"
    },
    "papermill": {
     "duration": 0.392142,
     "end_time": "2021-04-02T01:56:42.263856",
     "exception": false,
     "start_time": "2021-04-02T01:56:41.871714",
     "status": "completed"
    },
    "tags": []
   },
   "outputs": [
    {
     "data": {
      "image/png": "[encoded data removed]",
      "text/plain": [
       "<Figure size 432x288 with 1 Axes>"
      ]
     },
     "metadata": {},
     "output_type": "display_data"
    },
    {
     "data": {
      "image/png": "[encoded data removed]",
      "text/plain": [
       "<Figure size 432x288 with 1 Axes>"
      ]
     },
     "metadata": {},
     "output_type": "display_data"
    }
   ],
   "source": [
    "matplotlib.rcParams['figure.facecolor'] = '#ffffff'\n",
    "# summarize history for accuracy\n",
    "plt.plot(history.history['accuracy'])\n",
    "plt.plot(history.history['val_accuracy'])\n",
    "plt.title('model accuracy')\n",
    "plt.ylabel('accuracy')\n",
    "plt.xlabel('epoch')\n",
    "plt.legend(['train', 'test'], loc='upper left')\n",
    "plt.show()\n",
    "# summarize history for loss\n",
    "plt.plot(history.history['loss'])\n",
    "plt.plot(history.history['val_loss'])\n",
    "plt.title('model loss')\n",
    "plt.ylabel('loss')\n",
    "plt.xlabel('epoch')\n",
    "plt.legend(['train', 'test'], loc='upper left')\n",
    "plt.show()"
   ]
  },
  {
   "cell_type": "code",
   "execution_count": 8,
   "id": "permanent-height",
   "metadata": {
    "execution": {
     "iopub.execute_input": "2021-04-02T01:56:42.438770Z",
     "iopub.status.busy": "2021-04-02T01:56:42.438040Z",
     "iopub.status.idle": "2021-04-02T01:57:10.857442Z",
     "shell.execute_reply": "2021-04-02T01:57:10.856846Z"
    },
    "papermill": {
     "duration": 28.510589,
     "end_time": "2021-04-02T01:57:10.857575",
     "exception": false,
     "start_time": "2021-04-02T01:56:42.346986",
     "status": "completed"
    },
    "tags": []
   },
   "outputs": [],
   "source": [
    "model.save('EfficientNetB0')"
   ]
  }
 ],
 "metadata": {
  "kernelspec": {
   "display_name": "Python 3",
   "language": "python",
   "name": "python3"
  },
  "language_info": {
   "codemirror_mode": {
    "name": "ipython",
    "version": 3
   },
   "file_extension": ".py",
   "mimetype": "text/x-python",
   "name": "python",
   "nbconvert_exporter": "python",
   "pygments_lexer": "ipython3",
   "version": "3.7.9"
  },
  "papermill": {
   "default_parameters": {},
   "duration": 23639.534484,
   "end_time": "2021-04-02T01:57:14.313665",
   "environment_variables": {},
   "exception": null,
   "input_path": "__notebook__.ipynb",
   "output_path": "__notebook__.ipynb",
   "parameters": {},
   "start_time": "2021-04-01T19:23:14.779181",
   "version": "2.3.2"
  }
 },
 "nbformat": 4,
 "nbformat_minor": 5
}
